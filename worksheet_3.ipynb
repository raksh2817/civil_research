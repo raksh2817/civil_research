{
 "cells": [
  {
   "cell_type": "code",
   "execution_count": 1,
   "metadata": {},
   "outputs": [],
   "source": [
    "#Block for imports and other setting that will be required for the code to run\n",
    "import os\n",
    "import sys\n",
    "import re\n",
    "import time\n",
    "import datetime\n",
    "import random\n",
    "import pandas as pd\n",
    "import numpy as np\n",
    "from scipy.stats import zscore\n",
    "import matplotlib.pyplot as plt\n",
    "import seaborn as sns\n"
   ]
  },
  {
   "cell_type": "code",
   "execution_count": 2,
   "metadata": {},
   "outputs": [],
   "source": [
    "df1 = pd.read_csv('new_iso1_group_names.csv',)"
   ]
  },
  {
   "cell_type": "code",
   "execution_count": 3,
   "metadata": {},
   "outputs": [
    {
     "data": {
      "text/html": [
       "<div>\n",
       "<style scoped>\n",
       "    .dataframe tbody tr th:only-of-type {\n",
       "        vertical-align: middle;\n",
       "    }\n",
       "\n",
       "    .dataframe tbody tr th {\n",
       "        vertical-align: top;\n",
       "    }\n",
       "\n",
       "    .dataframe thead th {\n",
       "        text-align: right;\n",
       "    }\n",
       "</style>\n",
       "<table border=\"1\" class=\"dataframe\">\n",
       "  <thead>\n",
       "    <tr style=\"text-align: right;\">\n",
       "      <th></th>\n",
       "      <th>Blend Number</th>\n",
       "      <th>Original Blend Name</th>\n",
       "      <th>Blend Type</th>\n",
       "      <th>Replacement Level</th>\n",
       "      <th>Group_names</th>\n",
       "      <th>PC</th>\n",
       "      <th>GPP</th>\n",
       "      <th>SC</th>\n",
       "      <th>CC</th>\n",
       "      <th>FA</th>\n",
       "      <th>VA</th>\n",
       "      <th>GBA</th>\n",
       "      <th>FBC</th>\n",
       "      <th>QUARTZ</th>\n",
       "      <th>PLC</th>\n",
       "      <th>Cumulative Heat (J/g)</th>\n",
       "    </tr>\n",
       "  </thead>\n",
       "  <tbody>\n",
       "    <tr>\n",
       "      <th>0</th>\n",
       "      <td>0</td>\n",
       "      <td>100% PC</td>\n",
       "      <td>Other</td>\n",
       "      <td>0</td>\n",
       "      <td>X</td>\n",
       "      <td>100</td>\n",
       "      <td>0</td>\n",
       "      <td>0</td>\n",
       "      <td>0</td>\n",
       "      <td>0</td>\n",
       "      <td>0</td>\n",
       "      <td>0</td>\n",
       "      <td>0</td>\n",
       "      <td>0</td>\n",
       "      <td>0</td>\n",
       "      <td>323.16</td>\n",
       "    </tr>\n",
       "    <tr>\n",
       "      <th>1</th>\n",
       "      <td>1</td>\n",
       "      <td>80% PC + 20% GPP</td>\n",
       "      <td>Binary</td>\n",
       "      <td>20</td>\n",
       "      <td>Group_1_PC_GP</td>\n",
       "      <td>80</td>\n",
       "      <td>20</td>\n",
       "      <td>0</td>\n",
       "      <td>0</td>\n",
       "      <td>0</td>\n",
       "      <td>0</td>\n",
       "      <td>0</td>\n",
       "      <td>0</td>\n",
       "      <td>0</td>\n",
       "      <td>0</td>\n",
       "      <td>297.77</td>\n",
       "    </tr>\n",
       "    <tr>\n",
       "      <th>2</th>\n",
       "      <td>2</td>\n",
       "      <td>70% PC + 30% GPP</td>\n",
       "      <td>Binary</td>\n",
       "      <td>30</td>\n",
       "      <td>Group_1_PC_GP</td>\n",
       "      <td>70</td>\n",
       "      <td>30</td>\n",
       "      <td>0</td>\n",
       "      <td>0</td>\n",
       "      <td>0</td>\n",
       "      <td>0</td>\n",
       "      <td>0</td>\n",
       "      <td>0</td>\n",
       "      <td>0</td>\n",
       "      <td>0</td>\n",
       "      <td>311.40</td>\n",
       "    </tr>\n",
       "    <tr>\n",
       "      <th>3</th>\n",
       "      <td>3</td>\n",
       "      <td>60% PC + 40% GPP</td>\n",
       "      <td>Binary</td>\n",
       "      <td>40</td>\n",
       "      <td>Group_1_PC_GP</td>\n",
       "      <td>60</td>\n",
       "      <td>40</td>\n",
       "      <td>0</td>\n",
       "      <td>0</td>\n",
       "      <td>0</td>\n",
       "      <td>0</td>\n",
       "      <td>0</td>\n",
       "      <td>0</td>\n",
       "      <td>0</td>\n",
       "      <td>0</td>\n",
       "      <td>265.35</td>\n",
       "    </tr>\n",
       "    <tr>\n",
       "      <th>4</th>\n",
       "      <td>4</td>\n",
       "      <td>50% PC + 50% GPP</td>\n",
       "      <td>Binary</td>\n",
       "      <td>50</td>\n",
       "      <td>Group_1_PC_GP</td>\n",
       "      <td>50</td>\n",
       "      <td>50</td>\n",
       "      <td>0</td>\n",
       "      <td>0</td>\n",
       "      <td>0</td>\n",
       "      <td>0</td>\n",
       "      <td>0</td>\n",
       "      <td>0</td>\n",
       "      <td>0</td>\n",
       "      <td>0</td>\n",
       "      <td>225.05</td>\n",
       "    </tr>\n",
       "  </tbody>\n",
       "</table>\n",
       "</div>"
      ],
      "text/plain": [
       "   Blend Number Original Blend Name Blend Type  Replacement Level  \\\n",
       "0             0             100% PC      Other                  0   \n",
       "1             1    80% PC + 20% GPP     Binary                 20   \n",
       "2             2    70% PC + 30% GPP     Binary                 30   \n",
       "3             3    60% PC + 40% GPP     Binary                 40   \n",
       "4             4    50% PC + 50% GPP     Binary                 50   \n",
       "\n",
       "     Group_names   PC  GPP  SC  CC  FA  VA  GBA  FBC  QUARTZ  PLC  \\\n",
       "0              X  100    0   0   0   0   0    0    0       0    0   \n",
       "1  Group_1_PC_GP   80   20   0   0   0   0    0    0       0    0   \n",
       "2  Group_1_PC_GP   70   30   0   0   0   0    0    0       0    0   \n",
       "3  Group_1_PC_GP   60   40   0   0   0   0    0    0       0    0   \n",
       "4  Group_1_PC_GP   50   50   0   0   0   0    0    0       0    0   \n",
       "\n",
       "   Cumulative Heat (J/g)  \n",
       "0                 323.16  \n",
       "1                 297.77  \n",
       "2                 311.40  \n",
       "3                 265.35  \n",
       "4                 225.05  "
      ]
     },
     "execution_count": 3,
     "metadata": {},
     "output_type": "execute_result"
    }
   ],
   "source": [
    "df1.head()"
   ]
  },
  {
   "cell_type": "code",
   "execution_count": 33,
   "metadata": {},
   "outputs": [
    {
     "name": "stdout",
     "output_type": "stream",
     "text": [
      "Unique Group Names After Renaming:\n",
      "['X' 'PC with GP' 'Ternary with 10% PC' 'Ternary with 20% PC'\n",
      " 'Ternary with 30% PC' 'Ternary with 40% PC' 'Ternary with 50% PC'\n",
      " 'PC with Quartz' 'PLC with GP' 'Ternary with 40% PLC'\n",
      " 'Ternary with 50% PLC' 'Ternary with 30% PLC' 'PLC with Quartz']\n"
     ]
    }
   ],
   "source": [
    "# Create a mapping dictionary to rename groups for better clarity\n",
    "rename_mapping = {\n",
    "    'Group_1_PC_GP': 'PC with GP',\n",
    "    'Group_3_PC_Q': 'PC with Quartz',\n",
    "    'Group_2_PLC_GPP': 'PLC with GP',  # Adjust based on actual group naming\n",
    "    'Group_4_PLC_Q': 'PLC with Quartz',\n",
    "    'Group_5_3_PC_30': 'Ternary with 30% PC',\n",
    "    'Group_6_3_PC_40': 'Ternary with 40% PC',\n",
    "    'Group_7_3_PC_50': 'Ternary with 50% PC',\n",
    "    'Group_8_3_PLC_30': 'Ternary with 30% PLC',\n",
    "    'Group_9_3_PLC_40': 'Ternary with 40% PLC',\n",
    "    'Group_10_3_PLC_50': 'Ternary with 50% PLC',\n",
    "    'Group_11_3_PC_10': 'Ternary with 10% PC',\n",
    "    'Group_12_3_PC_20': 'Ternary with 20% PC',\n",
    "}\n",
    "\n",
    "# Rename the values in the Group_names column using the mapping\n",
    "df1['Group_names'] = df1['Group_names'].replace(rename_mapping)\n",
    "\n",
    "# Verify the changes\n",
    "print(\"Unique Group Names After Renaming:\")\n",
    "print(df1['Group_names'].unique())"
   ]
  },
  {
   "cell_type": "code",
   "execution_count": 42,
   "metadata": {},
   "outputs": [
    {
     "name": "stdout",
     "output_type": "stream",
     "text": [
      "\n",
      "Group Counts:\n",
      "             Group_names  Count\n",
      "0             PC with GP      6\n",
      "1         PC with Quartz      6\n",
      "2            PLC with GP      5\n",
      "3        PLC with Quartz      5\n",
      "4    Ternary with 10% PC      1\n",
      "5    Ternary with 20% PC      1\n",
      "6    Ternary with 30% PC     26\n",
      "7   Ternary with 30% PLC     23\n",
      "8    Ternary with 40% PC      4\n",
      "9   Ternary with 40% PLC      4\n",
      "10   Ternary with 50% PC      4\n",
      "11  Ternary with 50% PLC      4\n",
      "12                     X      3\n"
     ]
    }
   ],
   "source": [
    "# Count the number of entries in each group\n",
    "group_counts = df1.groupby('Group_names').size().reset_index(name='Count')\n",
    "print(\"\\nGroup Counts:\")\n",
    "print(group_counts)"
   ]
  },
  {
   "cell_type": "code",
   "execution_count": 43,
   "metadata": {},
   "outputs": [
    {
     "name": "stdout",
     "output_type": "stream",
     "text": [
      "\n",
      "Cumulative Heat Summary by Group:\n",
      "             Group_names        mean   median         std\n",
      "0             PC with GP  246.138333  245.200   56.426974\n",
      "1         PC with Quartz  229.538333  240.330   57.794374\n",
      "2            PLC with GP  246.232000  251.610   33.929140\n",
      "3        PLC with Quartz  256.506000  264.260   38.358624\n",
      "4    Ternary with 10% PC  115.700000  115.700         NaN\n",
      "5    Ternary with 20% PC  149.980000  149.980         NaN\n",
      "6    Ternary with 30% PC  176.442692  174.150   19.871955\n",
      "7   Ternary with 30% PLC  168.736957  159.340   20.570325\n",
      "8    Ternary with 40% PC  198.137500  197.655    9.658493\n",
      "9   Ternary with 40% PLC  196.250000  191.225   11.816838\n",
      "10   Ternary with 50% PC  226.557500  229.940    7.989712\n",
      "11  Ternary with 50% PLC  222.070000  221.350    3.731559\n",
      "12                     X  212.516667  303.150  174.597601\n"
     ]
    }
   ],
   "source": [
    "group_summary = df1.groupby('Group_names')['Cumulative Heat (J/g)'].agg(['mean', 'median', 'std']).reset_index()\n",
    "print(\"\\nCumulative Heat Summary by Group:\")\n",
    "print(group_summary)"
   ]
  },
  {
   "cell_type": "code",
   "execution_count": 44,
   "metadata": {},
   "outputs": [
    {
     "name": "stdout",
     "output_type": "stream",
     "text": [
      "Mean Cumulative Heat by Group:\n",
      "             Group_names  Cumulative Heat (J/g)\n",
      "0             PC with GP             246.138333\n",
      "1         PC with Quartz             229.538333\n",
      "2            PLC with GP             246.232000\n",
      "3        PLC with Quartz             256.506000\n",
      "4    Ternary with 10% PC             115.700000\n",
      "5    Ternary with 20% PC             149.980000\n",
      "6    Ternary with 30% PC             176.442692\n",
      "7   Ternary with 30% PLC             168.736957\n",
      "8    Ternary with 40% PC             198.137500\n",
      "9   Ternary with 40% PLC             196.250000\n",
      "10   Ternary with 50% PC             226.557500\n",
      "11  Ternary with 50% PLC             222.070000\n",
      "12                     X             212.516667\n"
     ]
    }
   ],
   "source": [
    "# Calculate mean cumulative heat for each group\n",
    "group_mean = df1.groupby('Group_names')['Cumulative Heat (J/g)'].mean().reset_index()\n",
    "print(\"Mean Cumulative Heat by Group:\")\n",
    "print(group_mean)"
   ]
  },
  {
   "cell_type": "code",
   "execution_count": 45,
   "metadata": {},
   "outputs": [
    {
     "name": "stdout",
     "output_type": "stream",
     "text": [
      "\n",
      "Baseline PC (PC with Quartz): 229.54\n",
      "Baseline PLC (PLC with Quartz): 256.51\n"
     ]
    }
   ],
   "source": [
    "# For PC-based blends, baseline is 'PC with Quartz'\n",
    "# For PLC-based blends, baseline is 'PLC with Quartz'\n",
    "baseline_pc = round(group_mean[group_mean['Group_names'] == 'PC with Quartz']['Cumulative Heat (J/g)'].values[0],2)\n",
    "baseline_plc = round(group_mean[group_mean['Group_names'] == 'PLC with Quartz']['Cumulative Heat (J/g)'].values[0],2)\n",
    "\n",
    "print(\"\\nBaseline PC (PC with Quartz):\", baseline_pc)\n",
    "print(\"Baseline PLC (PLC with Quartz):\", baseline_plc)"
   ]
  },
  {
   "cell_type": "code",
   "execution_count": 46,
   "metadata": {},
   "outputs": [],
   "source": [
    "#Define relevant groups (excluding the Quartz-based baselines)\n",
    "\n",
    "pc_groups = ['PC with GP', 'Ternary with 30% PC', 'Ternary with 40% PC', 'Ternary with 50% PC','Ternary with 10% PC' ,'Ternary with 20% PC']\n",
    "plc_groups = ['PLC with GP', 'Ternary with 30% PLC', 'Ternary with 40% PLC', 'Ternary with 50% PLC']"
   ]
  },
  {
   "cell_type": "code",
   "execution_count": 47,
   "metadata": {},
   "outputs": [
    {
     "name": "stdout",
     "output_type": "stream",
     "text": [
      "\n",
      "Group Mean with ΔHeat (Difference relative to Quartz-based binary blend):\n",
      "             Group_names  Cumulative Heat (J/g)  Delta_Heat\n",
      "0             PC with GP             246.138333   16.598333\n",
      "1         PC with Quartz             229.538333         NaN\n",
      "2            PLC with GP             246.232000  -10.278000\n",
      "3        PLC with Quartz             256.506000         NaN\n",
      "4    Ternary with 10% PC             115.700000 -113.840000\n",
      "5    Ternary with 20% PC             149.980000  -79.560000\n",
      "6    Ternary with 30% PC             176.442692  -53.097308\n",
      "7   Ternary with 30% PLC             168.736957  -87.773043\n",
      "8    Ternary with 40% PC             198.137500  -31.402500\n",
      "9   Ternary with 40% PLC             196.250000  -60.260000\n",
      "10   Ternary with 50% PC             226.557500   -2.982500\n",
      "11  Ternary with 50% PLC             222.070000  -34.440000\n",
      "12                     X             212.516667         NaN\n"
     ]
    }
   ],
   "source": [
    "#  Create a new column 'Delta_Heat' in the group_mean DataFrame by comparing against the baseline\n",
    "def calc_diff(row):\n",
    "    if row['Group_names'] in pc_groups:\n",
    "        return row['Cumulative Heat (J/g)'] - baseline_pc\n",
    "    elif row['Group_names'] in plc_groups:\n",
    "        return row['Cumulative Heat (J/g)'] - baseline_plc\n",
    "    else:\n",
    "        # For baseline groups (and any others), return None or 0\n",
    "        return None\n",
    "\n",
    "group_mean['Delta_Heat'] = group_mean.apply(calc_diff, axis=1)\n",
    "\n",
    "print(\"\\nGroup Mean with ΔHeat (Difference relative to Quartz-based binary blend):\")\n",
    "print(group_mean)"
   ]
  },
  {
   "cell_type": "code",
   "execution_count": null,
   "metadata": {},
   "outputs": [
    {
     "name": "stderr",
     "output_type": "stream",
     "text": [
      "C:\\Users\\raksh\\AppData\\Local\\Temp\\ipykernel_55552\\4139148303.py:4: FutureWarning: \n",
      "\n",
      "Passing `palette` without assigning `hue` is deprecated and will be removed in v0.14.0. Assign the `x` variable to `hue` and set `legend=False` for the same effect.\n",
      "\n",
      "  sns.barplot(x='Group_names', y='Cumulative Heat (J/g)', data=group_mean, palette='viridis')\n"
     ]
    },
    {
     "data": {
      "image/png": "[encoded data removed]",
      "text/plain": [
       "<Figure size 1000x600 with 1 Axes>"
      ]
     },
     "metadata": {},
     "output_type": "display_data"
    }
   ],
   "source": [
    "# --- Visualization 1: Mean Cumulative Heat by Group ---\n",
    "\n",
    "plt.figure(figsize=(10,6))\n",
    "sns.barplot(x='Group_names', y='Cumulative Heat (J/g)', data=group_mean, palette='viridis')\n",
    "plt.title('Mean Cumulative Heat by Group', fontsize=16)\n",
    "plt.xlabel('Group', fontsize=14)\n",
    "plt.ylabel('Mean Cumulative Heat (J/g)', fontsize=14)\n",
    "plt.xticks(rotation=45, ha='right', fontsize=12)\n",
    "plt.tight_layout()\n",
    "plt.show()"
   ]
  },
  {
   "cell_type": "code",
   "execution_count": 53,
   "metadata": {},
   "outputs": [
    {
     "name": "stderr",
     "output_type": "stream",
     "text": [
      "C:\\Users\\raksh\\AppData\\Local\\Temp\\ipykernel_55552\\3381662983.py:6: FutureWarning: \n",
      "\n",
      "Passing `palette` without assigning `hue` is deprecated and will be removed in v0.14.0. Assign the `x` variable to `hue` and set `legend=False` for the same effect.\n",
      "\n",
      "  sns.barplot(x='Group_names', y='Delta_Heat', data=delta_df, palette='coolwarm')\n"
     ]
    },
    {
     "data": {
      "image/png": "[encoded data removed]",
      "text/plain": [
       "<Figure size 1200x600 with 1 Axes>"
      ]
     },
     "metadata": {},
     "output_type": "display_data"
    }
   ],
   "source": [
    "# --- Visualization 2: ΔHeat (Difference relative to Quartz-based Binary Blend) ---\n",
    "# Filter out rows that do not have a Delta_Heat value (i.e., the baseline groups and any unmapped groups)\n",
    "delta_df = group_mean.dropna(subset=['Delta_Heat'])\n",
    "\n",
    "plt.figure(figsize=(12, 6))\n",
    "sns.barplot(x='Group_names', y='Delta_Heat', data=delta_df, palette='coolwarm')\n",
    "plt.title('ΔHeat Relative to Quartz-based Binary Blend', fontsize=16)\n",
    "plt.xlabel('Group', fontsize=14)\n",
    "plt.ylabel('ΔHeat (J/g)', fontsize=14)\n",
    "plt.xticks(rotation=45, ha='right', fontsize=12)\n",
    "plt.axhline(0, color='black', linestyle='--', linewidth=1)  # Reference line at 0\n",
    "plt.tight_layout()\n",
    "plt.show()"
   ]
  },
  {
   "cell_type": "code",
   "execution_count": 55,
   "metadata": {},
   "outputs": [
    {
     "data": {
      "application/vnd.plotly.v1+json": {
       "config": {
        "plotlyServerURL": "https://plot.ly"
       },
       "data": [
        {
         "hovertemplate": "Group=%{x}<br>Mean Cumulative Heat (J/g)=%{text}<extra></extra>",
         "legendgroup": "",
         "marker": {
          "color": "#636efa",
          "pattern": {
           "shape": ""
          }
         },
         "name": "",
         "orientation": "v",
         "showlegend": false,
         "text": {
          "bdata": "oNMGOm3EbkBtoNMGOrFsQICVQ4tsx25Aarx0kxgIcEDNzMzMzOxcQI/C9Shcv2JAVvcOiSoOZkAx7tcllRdlQGZmZmZmxGhAAAAAAACIaECkcD0K11FsQArXo3A9wmtAiIiIiIiQakA=",
          "dtype": "f8"
         },
         "textposition": "outside",
         "texttemplate": "%{text:.2f}",
         "type": "bar",
         "x": [
          "PC with GP",
          "PC with Quartz",
          "PLC with GP",
          "PLC with Quartz",
          "Ternary with 10% PC",
          "Ternary with 20% PC",
          "Ternary with 30% PC",
          "Ternary with 30% PLC",
          "Ternary with 40% PC",
          "Ternary with 40% PLC",
          "Ternary with 50% PC",
          "Ternary with 50% PLC",
          "X"
         ],
         "xaxis": "x",
         "y": {
          "bdata": "oNMGOm3EbkBtoNMGOrFsQICVQ4tsx25Aarx0kxgIcEDNzMzMzOxcQI/C9Shcv2JAVvcOiSoOZkAx7tcllRdlQGZmZmZmxGhAAAAAAACIaECkcD0K11FsQArXo3A9wmtAiIiIiIiQakA=",
          "dtype": "f8"
         },
         "yaxis": "y"
        }
       ],
       "layout": {
        "barmode": "relative",
        "legend": {
         "tracegroupgap": 0
        },
        "template": {
         "data": {
          "bar": [
           {
            "error_x": {
             "color": "#2a3f5f"
            },
            "error_y": {
             "color": "#2a3f5f"
            },
            "marker": {
             "line": {
              "color": "#E5ECF6",
              "width": 0.5
             },
             "pattern": {
              "fillmode": "overlay",
              "size": 10,
              "solidity": 0.2
             }
            },
            "type": "bar"
           }
          ],
          "barpolar": [
           {
            "marker": {
             "line": {
              "color": "#E5ECF6",
              "width": 0.5
             },
             "pattern": {
              "fillmode": "overlay",
              "size": 10,
              "solidity": 0.2
             }
            },
            "type": "barpolar"
           }
          ],
          "carpet": [
           {
            "aaxis": {
             "endlinecolor": "#2a3f5f",
             "gridcolor": "white",
             "linecolor": "white",
             "minorgridcolor": "white",
             "startlinecolor": "#2a3f5f"
            },
            "baxis": {
             "endlinecolor": "#2a3f5f",
             "gridcolor": "white",
             "linecolor": "white",
             "minorgridcolor": "white",
             "startlinecolor": "#2a3f5f"
            },
            "type": "carpet"
           }
          ],
          "choropleth": [
           {
            "colorbar": {
             "outlinewidth": 0,
             "ticks": ""
            },
            "type": "choropleth"
           }
          ],
          "contour": [
           {
            "colorbar": {
             "outlinewidth": 0,
             "ticks": ""
            },
            "colorscale": [
             [
              0,
              "#0d0887"
             ],
             [
              0.1111111111111111,
              "#46039f"
             ],
             [
              0.2222222222222222,
              "#7201a8"
             ],
             [
              0.3333333333333333,
              "#9c179e"
             ],
             [
              0.4444444444444444,
              "#bd3786"
             ],
             [
              0.5555555555555556,
              "#d8576b"
             ],
             [
              0.6666666666666666,
              "#ed7953"
             ],
             [
              0.7777777777777778,
              "#fb9f3a"
             ],
             [
              0.8888888888888888,
              "#fdca26"
             ],
             [
              1,
              "#f0f921"
             ]
            ],
            "type": "contour"
           }
          ],
          "contourcarpet": [
           {
            "colorbar": {
             "outlinewidth": 0,
             "ticks": ""
            },
            "type": "contourcarpet"
           }
          ],
          "heatmap": [
           {
            "colorbar": {
             "outlinewidth": 0,
             "ticks": ""
            },
            "colorscale": [
             [
              0,
              "#0d0887"
             ],
             [
              0.1111111111111111,
              "#46039f"
             ],
             [
              0.2222222222222222,
              "#7201a8"
             ],
             [
              0.3333333333333333,
              "#9c179e"
             ],
             [
              0.4444444444444444,
              "#bd3786"
             ],
             [
              0.5555555555555556,
              "#d8576b"
             ],
             [
              0.6666666666666666,
              "#ed7953"
             ],
             [
              0.7777777777777778,
              "#fb9f3a"
             ],
             [
              0.8888888888888888,
              "#fdca26"
             ],
             [
              1,
              "#f0f921"
             ]
            ],
            "type": "heatmap"
           }
          ],
          "histogram": [
           {
            "marker": {
             "pattern": {
              "fillmode": "overlay",
              "size": 10,
              "solidity": 0.2
             }
            },
            "type": "histogram"
           }
          ],
          "histogram2d": [
           {
            "colorbar": {
             "outlinewidth": 0,
             "ticks": ""
            },
            "colorscale": [
             [
              0,
              "#0d0887"
             ],
             [
              0.1111111111111111,
              "#46039f"
             ],
             [
              0.2222222222222222,
              "#7201a8"
             ],
             [
              0.3333333333333333,
              "#9c179e"
             ],
             [
              0.4444444444444444,
              "#bd3786"
             ],
             [
              0.5555555555555556,
              "#d8576b"
             ],
             [
              0.6666666666666666,
              "#ed7953"
             ],
             [
              0.7777777777777778,
              "#fb9f3a"
             ],
             [
              0.8888888888888888,
              "#fdca26"
             ],
             [
              1,
              "#f0f921"
             ]
            ],
            "type": "histogram2d"
           }
          ],
          "histogram2dcontour": [
           {
            "colorbar": {
             "outlinewidth": 0,
             "ticks": ""
            },
            "colorscale": [
             [
              0,
              "#0d0887"
             ],
             [
              0.1111111111111111,
              "#46039f"
             ],
             [
              0.2222222222222222,
              "#7201a8"
             ],
             [
              0.3333333333333333,
              "#9c179e"
             ],
             [
              0.4444444444444444,
              "#bd3786"
             ],
             [
              0.5555555555555556,
              "#d8576b"
             ],
             [
              0.6666666666666666,
              "#ed7953"
             ],
             [
              0.7777777777777778,
              "#fb9f3a"
             ],
             [
              0.8888888888888888,
              "#fdca26"
             ],
             [
              1,
              "#f0f921"
             ]
            ],
            "type": "histogram2dcontour"
           }
          ],
          "mesh3d": [
           {
            "colorbar": {
             "outlinewidth": 0,
             "ticks": ""
            },
            "type": "mesh3d"
           }
          ],
          "parcoords": [
           {
            "line": {
             "colorbar": {
              "outlinewidth": 0,
              "ticks": ""
             }
            },
            "type": "parcoords"
           }
          ],
          "pie": [
           {
            "automargin": true,
            "type": "pie"
           }
          ],
          "scatter": [
           {
            "fillpattern": {
             "fillmode": "overlay",
             "size": 10,
             "solidity": 0.2
            },
            "type": "scatter"
           }
          ],
          "scatter3d": [
           {
            "line": {
             "colorbar": {
              "outlinewidth": 0,
              "ticks": ""
             }
            },
            "marker": {
             "colorbar": {
              "outlinewidth": 0,
              "ticks": ""
             }
            },
            "type": "scatter3d"
           }
          ],
          "scattercarpet": [
           {
            "marker": {
             "colorbar": {
              "outlinewidth": 0,
              "ticks": ""
             }
            },
            "type": "scattercarpet"
           }
          ],
          "scattergeo": [
           {
            "marker": {
             "colorbar": {
              "outlinewidth": 0,
              "ticks": ""
             }
            },
            "type": "scattergeo"
           }
          ],
          "scattergl": [
           {
            "marker": {
             "colorbar": {
              "outlinewidth": 0,
              "ticks": ""
             }
            },
            "type": "scattergl"
           }
          ],
          "scattermap": [
           {
            "marker": {
             "colorbar": {
              "outlinewidth": 0,
              "ticks": ""
             }
            },
            "type": "scattermap"
           }
          ],
          "scattermapbox": [
           {
            "marker": {
             "colorbar": {
              "outlinewidth": 0,
              "ticks": ""
             }
            },
            "type": "scattermapbox"
           }
          ],
          "scatterpolar": [
           {
            "marker": {
             "colorbar": {
              "outlinewidth": 0,
              "ticks": ""
             }
            },
            "type": "scatterpolar"
           }
          ],
          "scatterpolargl": [
           {
            "marker": {
             "colorbar": {
              "outlinewidth": 0,
              "ticks": ""
             }
            },
            "type": "scatterpolargl"
           }
          ],
          "scatterternary": [
           {
            "marker": {
             "colorbar": {
              "outlinewidth": 0,
              "ticks": ""
             }
            },
            "type": "scatterternary"
           }
          ],
          "surface": [
           {
            "colorbar": {
             "outlinewidth": 0,
             "ticks": ""
            },
            "colorscale": [
             [
              0,
              "#0d0887"
             ],
             [
              0.1111111111111111,
              "#46039f"
             ],
             [
              0.2222222222222222,
              "#7201a8"
             ],
             [
              0.3333333333333333,
              "#9c179e"
             ],
             [
              0.4444444444444444,
              "#bd3786"
             ],
             [
              0.5555555555555556,
              "#d8576b"
             ],
             [
              0.6666666666666666,
              "#ed7953"
             ],
             [
              0.7777777777777778,
              "#fb9f3a"
             ],
             [
              0.8888888888888888,
              "#fdca26"
             ],
             [
              1,
              "#f0f921"
             ]
            ],
            "type": "surface"
           }
          ],
          "table": [
           {
            "cells": {
             "fill": {
              "color": "#EBF0F8"
             },
             "line": {
              "color": "white"
             }
            },
            "header": {
             "fill": {
              "color": "#C8D4E3"
             },
             "line": {
              "color": "white"
             }
            },
            "type": "table"
           }
          ]
         },
         "layout": {
          "annotationdefaults": {
           "arrowcolor": "#2a3f5f",
           "arrowhead": 0,
           "arrowwidth": 1
          },
          "autotypenumbers": "strict",
          "coloraxis": {
           "colorbar": {
            "outlinewidth": 0,
            "ticks": ""
           }
          },
          "colorscale": {
           "diverging": [
            [
             0,
             "#8e0152"
            ],
            [
             0.1,
             "#c51b7d"
            ],
            [
             0.2,
             "#de77ae"
            ],
            [
             0.3,
             "#f1b6da"
            ],
            [
             0.4,
             "#fde0ef"
            ],
            [
             0.5,
             "#f7f7f7"
            ],
            [
             0.6,
             "#e6f5d0"
            ],
            [
             0.7,
             "#b8e186"
            ],
            [
             0.8,
             "#7fbc41"
            ],
            [
             0.9,
             "#4d9221"
            ],
            [
             1,
             "#276419"
            ]
           ],
           "sequential": [
            [
             0,
             "#0d0887"
            ],
            [
             0.1111111111111111,
             "#46039f"
            ],
            [
             0.2222222222222222,
             "#7201a8"
            ],
            [
             0.3333333333333333,
             "#9c179e"
            ],
            [
             0.4444444444444444,
             "#bd3786"
            ],
            [
             0.5555555555555556,
             "#d8576b"
            ],
            [
             0.6666666666666666,
             "#ed7953"
            ],
            [
             0.7777777777777778,
             "#fb9f3a"
            ],
            [
             0.8888888888888888,
             "#fdca26"
            ],
            [
             1,
             "#f0f921"
            ]
           ],
           "sequentialminus": [
            [
             0,
             "#0d0887"
            ],
            [
             0.1111111111111111,
             "#46039f"
            ],
            [
             0.2222222222222222,
             "#7201a8"
            ],
            [
             0.3333333333333333,
             "#9c179e"
            ],
            [
             0.4444444444444444,
             "#bd3786"
            ],
            [
             0.5555555555555556,
             "#d8576b"
            ],
            [
             0.6666666666666666,
             "#ed7953"
            ],
            [
             0.7777777777777778,
             "#fb9f3a"
            ],
            [
             0.8888888888888888,
             "#fdca26"
            ],
            [
             1,
             "#f0f921"
            ]
           ]
          },
          "colorway": [
           "#636efa",
           "#EF553B",
           "#00cc96",
           "#ab63fa",
           "#FFA15A",
           "#19d3f3",
           "#FF6692",
           "#B6E880",
           "#FF97FF",
           "#FECB52"
          ],
          "font": {
           "color": "#2a3f5f"
          },
          "geo": {
           "bgcolor": "white",
           "lakecolor": "white",
           "landcolor": "#E5ECF6",
           "showlakes": true,
           "showland": true,
           "subunitcolor": "white"
          },
          "hoverlabel": {
           "align": "left"
          },
          "hovermode": "closest",
          "mapbox": {
           "style": "light"
          },
          "paper_bgcolor": "white",
          "plot_bgcolor": "#E5ECF6",
          "polar": {
           "angularaxis": {
            "gridcolor": "white",
            "linecolor": "white",
            "ticks": ""
           },
           "bgcolor": "#E5ECF6",
           "radialaxis": {
            "gridcolor": "white",
            "linecolor": "white",
            "ticks": ""
           }
          },
          "scene": {
           "xaxis": {
            "backgroundcolor": "#E5ECF6",
            "gridcolor": "white",
            "gridwidth": 2,
            "linecolor": "white",
            "showbackground": true,
            "ticks": "",
            "zerolinecolor": "white"
           },
           "yaxis": {
            "backgroundcolor": "#E5ECF6",
            "gridcolor": "white",
            "gridwidth": 2,
            "linecolor": "white",
            "showbackground": true,
            "ticks": "",
            "zerolinecolor": "white"
           },
           "zaxis": {
            "backgroundcolor": "#E5ECF6",
            "gridcolor": "white",
            "gridwidth": 2,
            "linecolor": "white",
            "showbackground": true,
            "ticks": "",
            "zerolinecolor": "white"
           }
          },
          "shapedefaults": {
           "line": {
            "color": "#2a3f5f"
           }
          },
          "ternary": {
           "aaxis": {
            "gridcolor": "white",
            "linecolor": "white",
            "ticks": ""
           },
           "baxis": {
            "gridcolor": "white",
            "linecolor": "white",
            "ticks": ""
           },
           "bgcolor": "#E5ECF6",
           "caxis": {
            "gridcolor": "white",
            "linecolor": "white",
            "ticks": ""
           }
          },
          "title": {
           "x": 0.05
          },
          "xaxis": {
           "automargin": true,
           "gridcolor": "white",
           "linecolor": "white",
           "ticks": "",
           "title": {
            "standoff": 15
           },
           "zerolinecolor": "white",
           "zerolinewidth": 2
          },
          "yaxis": {
           "automargin": true,
           "gridcolor": "white",
           "linecolor": "white",
           "ticks": "",
           "title": {
            "standoff": 15
           },
           "zerolinecolor": "white",
           "zerolinewidth": 2
          }
         }
        },
        "title": {
         "text": "Interactive Mean Cumulative Heat by Group"
        },
        "xaxis": {
         "anchor": "y",
         "domain": [
          0,
          1
         ],
         "tickangle": -45,
         "title": {
          "text": "Group"
         }
        },
        "yaxis": {
         "anchor": "x",
         "domain": [
          0,
          1
         ],
         "title": {
          "text": "Mean Cumulative Heat (J/g)"
         }
        }
       }
      }
     },
     "metadata": {},
     "output_type": "display_data"
    }
   ],
   "source": [
    "import plotly.express as px\n",
    "\n",
    "# Interactive bar chart for mean cumulative heat\n",
    "fig = px.bar(\n",
    "    group_mean,\n",
    "    x=\"Group_names\",\n",
    "    y=\"Cumulative Heat (J/g)\",\n",
    "    title=\"Interactive Mean Cumulative Heat by Group\",\n",
    "    labels={\"Group_names\": \"Group\", \"Cumulative Heat (J/g)\": \"Mean Cumulative Heat (J/g)\"},\n",
    "    text=\"Cumulative Heat (J/g)\"\n",
    ")\n",
    "fig.update_traces(texttemplate='%{text:.2f}', textposition='outside')\n",
    "fig.update_layout(xaxis_tickangle=-45)\n",
    "fig.show()\n"
   ]
  },
  {
   "cell_type": "code",
   "execution_count": 57,
   "metadata": {},
   "outputs": [
    {
     "data": {
      "application/vnd.plotly.v1+json": {
       "config": {
        "plotlyServerURL": "https://plot.ly"
       },
       "data": [
        {
         "hovertemplate": "Group=%{x}<br>ΔHeat (J/g)=%{marker.color}<extra></extra>",
         "legendgroup": "",
         "marker": {
          "color": {
           "bdata": "+MWSXyyZMECAkxgEVo4kwPUoXI/CdVzApHA9CtfjU8AsDhaUdIxKwA5hWot58VXA2KNwPQpnP8DgehSuRyFOwECPwvUo3AfAuB6F61E4QcA=",
           "dtype": "f8"
          },
          "coloraxis": "coloraxis",
          "pattern": {
           "shape": ""
          }
         },
         "name": "",
         "orientation": "v",
         "showlegend": false,
         "text": [
          "16.60 J/g<br>7.2%",
          "-10.28 J/g<br>-4.0%",
          "-113.84 J/g<br>-49.6%",
          "-79.56 J/g<br>-34.7%",
          "-53.10 J/g<br>-23.1%",
          "-87.77 J/g<br>-34.2%",
          "-31.40 J/g<br>-13.7%",
          "-60.26 J/g<br>-23.5%",
          "-2.98 J/g<br>-1.3%",
          "-34.44 J/g<br>-13.4%"
         ],
         "textposition": "outside",
         "type": "bar",
         "x": [
          "PC with GP",
          "PLC with GP",
          "Ternary with 10% PC",
          "Ternary with 20% PC",
          "Ternary with 30% PC",
          "Ternary with 30% PLC",
          "Ternary with 40% PC",
          "Ternary with 40% PLC",
          "Ternary with 50% PC",
          "Ternary with 50% PLC"
         ],
         "xaxis": "x",
         "y": {
          "bdata": "+MWSXyyZMECAkxgEVo4kwPUoXI/CdVzApHA9CtfjU8AsDhaUdIxKwA5hWot58VXA2KNwPQpnP8DgehSuRyFOwECPwvUo3AfAuB6F61E4QcA=",
          "dtype": "f8"
         },
         "yaxis": "y"
        }
       ],
       "layout": {
        "barmode": "relative",
        "coloraxis": {
         "colorbar": {
          "title": {
           "text": "ΔHeat (J/g)"
          }
         },
         "colorscale": [
          [
           0,
           "rgb(103,0,31)"
          ],
          [
           0.1,
           "rgb(178,24,43)"
          ],
          [
           0.2,
           "rgb(214,96,77)"
          ],
          [
           0.3,
           "rgb(244,165,130)"
          ],
          [
           0.4,
           "rgb(253,219,199)"
          ],
          [
           0.5,
           "rgb(247,247,247)"
          ],
          [
           0.6,
           "rgb(209,229,240)"
          ],
          [
           0.7,
           "rgb(146,197,222)"
          ],
          [
           0.8,
           "rgb(67,147,195)"
          ],
          [
           0.9,
           "rgb(33,102,172)"
          ],
          [
           1,
           "rgb(5,48,97)"
          ]
         ]
        },
        "legend": {
         "tracegroupgap": 0
        },
        "template": {
         "data": {
          "bar": [
           {
            "error_x": {
             "color": "#2a3f5f"
            },
            "error_y": {
             "color": "#2a3f5f"
            },
            "marker": {
             "line": {
              "color": "#E5ECF6",
              "width": 0.5
             },
             "pattern": {
              "fillmode": "overlay",
              "size": 10,
              "solidity": 0.2
             }
            },
            "type": "bar"
           }
          ],
          "barpolar": [
           {
            "marker": {
             "line": {
              "color": "#E5ECF6",
              "width": 0.5
             },
             "pattern": {
              "fillmode": "overlay",
              "size": 10,
              "solidity": 0.2
             }
            },
            "type": "barpolar"
           }
          ],
          "carpet": [
           {
            "aaxis": {
             "endlinecolor": "#2a3f5f",
             "gridcolor": "white",
             "linecolor": "white",
             "minorgridcolor": "white",
             "startlinecolor": "#2a3f5f"
            },
            "baxis": {
             "endlinecolor": "#2a3f5f",
             "gridcolor": "white",
             "linecolor": "white",
             "minorgridcolor": "white",
             "startlinecolor": "#2a3f5f"
            },
            "type": "carpet"
           }
          ],
          "choropleth": [
           {
            "colorbar": {
             "outlinewidth": 0,
             "ticks": ""
            },
            "type": "choropleth"
           }
          ],
          "contour": [
           {
            "colorbar": {
             "outlinewidth": 0,
             "ticks": ""
            },
            "colorscale": [
             [
              0,
              "#0d0887"
             ],
             [
              0.1111111111111111,
              "#46039f"
             ],
             [
              0.2222222222222222,
              "#7201a8"
             ],
             [
              0.3333333333333333,
              "#9c179e"
             ],
             [
              0.4444444444444444,
              "#bd3786"
             ],
             [
              0.5555555555555556,
              "#d8576b"
             ],
             [
              0.6666666666666666,
              "#ed7953"
             ],
             [
              0.7777777777777778,
              "#fb9f3a"
             ],
             [
              0.8888888888888888,
              "#fdca26"
             ],
             [
              1,
              "#f0f921"
             ]
            ],
            "type": "contour"
           }
          ],
          "contourcarpet": [
           {
            "colorbar": {
             "outlinewidth": 0,
             "ticks": ""
            },
            "type": "contourcarpet"
           }
          ],
          "heatmap": [
           {
            "colorbar": {
             "outlinewidth": 0,
             "ticks": ""
            },
            "colorscale": [
             [
              0,
              "#0d0887"
             ],
             [
              0.1111111111111111,
              "#46039f"
             ],
             [
              0.2222222222222222,
              "#7201a8"
             ],
             [
              0.3333333333333333,
              "#9c179e"
             ],
             [
              0.4444444444444444,
              "#bd3786"
             ],
             [
              0.5555555555555556,
              "#d8576b"
             ],
             [
              0.6666666666666666,
              "#ed7953"
             ],
             [
              0.7777777777777778,
              "#fb9f3a"
             ],
             [
              0.8888888888888888,
              "#fdca26"
             ],
             [
              1,
              "#f0f921"
             ]
            ],
            "type": "heatmap"
           }
          ],
          "histogram": [
           {
            "marker": {
             "pattern": {
              "fillmode": "overlay",
              "size": 10,
              "solidity": 0.2
             }
            },
            "type": "histogram"
           }
          ],
          "histogram2d": [
           {
            "colorbar": {
             "outlinewidth": 0,
             "ticks": ""
            },
            "colorscale": [
             [
              0,
              "#0d0887"
             ],
             [
              0.1111111111111111,
              "#46039f"
             ],
             [
              0.2222222222222222,
              "#7201a8"
             ],
             [
              0.3333333333333333,
              "#9c179e"
             ],
             [
              0.4444444444444444,
              "#bd3786"
             ],
             [
              0.5555555555555556,
              "#d8576b"
             ],
             [
              0.6666666666666666,
              "#ed7953"
             ],
             [
              0.7777777777777778,
              "#fb9f3a"
             ],
             [
              0.8888888888888888,
              "#fdca26"
             ],
             [
              1,
              "#f0f921"
             ]
            ],
            "type": "histogram2d"
           }
          ],
          "histogram2dcontour": [
           {
            "colorbar": {
             "outlinewidth": 0,
             "ticks": ""
            },
            "colorscale": [
             [
              0,
              "#0d0887"
             ],
             [
              0.1111111111111111,
              "#46039f"
             ],
             [
              0.2222222222222222,
              "#7201a8"
             ],
             [
              0.3333333333333333,
              "#9c179e"
             ],
             [
              0.4444444444444444,
              "#bd3786"
             ],
             [
              0.5555555555555556,
              "#d8576b"
             ],
             [
              0.6666666666666666,
              "#ed7953"
             ],
             [
              0.7777777777777778,
              "#fb9f3a"
             ],
             [
              0.8888888888888888,
              "#fdca26"
             ],
             [
              1,
              "#f0f921"
             ]
            ],
            "type": "histogram2dcontour"
           }
          ],
          "mesh3d": [
           {
            "colorbar": {
             "outlinewidth": 0,
             "ticks": ""
            },
            "type": "mesh3d"
           }
          ],
          "parcoords": [
           {
            "line": {
             "colorbar": {
              "outlinewidth": 0,
              "ticks": ""
             }
            },
            "type": "parcoords"
           }
          ],
          "pie": [
           {
            "automargin": true,
            "type": "pie"
           }
          ],
          "scatter": [
           {
            "fillpattern": {
             "fillmode": "overlay",
             "size": 10,
             "solidity": 0.2
            },
            "type": "scatter"
           }
          ],
          "scatter3d": [
           {
            "line": {
             "colorbar": {
              "outlinewidth": 0,
              "ticks": ""
             }
            },
            "marker": {
             "colorbar": {
              "outlinewidth": 0,
              "ticks": ""
             }
            },
            "type": "scatter3d"
           }
          ],
          "scattercarpet": [
           {
            "marker": {
             "colorbar": {
              "outlinewidth": 0,
              "ticks": ""
             }
            },
            "type": "scattercarpet"
           }
          ],
          "scattergeo": [
           {
            "marker": {
             "colorbar": {
              "outlinewidth": 0,
              "ticks": ""
             }
            },
            "type": "scattergeo"
           }
          ],
          "scattergl": [
           {
            "marker": {
             "colorbar": {
              "outlinewidth": 0,
              "ticks": ""
             }
            },
            "type": "scattergl"
           }
          ],
          "scattermap": [
           {
            "marker": {
             "colorbar": {
              "outlinewidth": 0,
              "ticks": ""
             }
            },
            "type": "scattermap"
           }
          ],
          "scattermapbox": [
           {
            "marker": {
             "colorbar": {
              "outlinewidth": 0,
              "ticks": ""
             }
            },
            "type": "scattermapbox"
           }
          ],
          "scatterpolar": [
           {
            "marker": {
             "colorbar": {
              "outlinewidth": 0,
              "ticks": ""
             }
            },
            "type": "scatterpolar"
           }
          ],
          "scatterpolargl": [
           {
            "marker": {
             "colorbar": {
              "outlinewidth": 0,
              "ticks": ""
             }
            },
            "type": "scatterpolargl"
           }
          ],
          "scatterternary": [
           {
            "marker": {
             "colorbar": {
              "outlinewidth": 0,
              "ticks": ""
             }
            },
            "type": "scatterternary"
           }
          ],
          "surface": [
           {
            "colorbar": {
             "outlinewidth": 0,
             "ticks": ""
            },
            "colorscale": [
             [
              0,
              "#0d0887"
             ],
             [
              0.1111111111111111,
              "#46039f"
             ],
             [
              0.2222222222222222,
              "#7201a8"
             ],
             [
              0.3333333333333333,
              "#9c179e"
             ],
             [
              0.4444444444444444,
              "#bd3786"
             ],
             [
              0.5555555555555556,
              "#d8576b"
             ],
             [
              0.6666666666666666,
              "#ed7953"
             ],
             [
              0.7777777777777778,
              "#fb9f3a"
             ],
             [
              0.8888888888888888,
              "#fdca26"
             ],
             [
              1,
              "#f0f921"
             ]
            ],
            "type": "surface"
           }
          ],
          "table": [
           {
            "cells": {
             "fill": {
              "color": "#EBF0F8"
             },
             "line": {
              "color": "white"
             }
            },
            "header": {
             "fill": {
              "color": "#C8D4E3"
             },
             "line": {
              "color": "white"
             }
            },
            "type": "table"
           }
          ]
         },
         "layout": {
          "annotationdefaults": {
           "arrowcolor": "#2a3f5f",
           "arrowhead": 0,
           "arrowwidth": 1
          },
          "autotypenumbers": "strict",
          "coloraxis": {
           "colorbar": {
            "outlinewidth": 0,
            "ticks": ""
           }
          },
          "colorscale": {
           "diverging": [
            [
             0,
             "#8e0152"
            ],
            [
             0.1,
             "#c51b7d"
            ],
            [
             0.2,
             "#de77ae"
            ],
            [
             0.3,
             "#f1b6da"
            ],
            [
             0.4,
             "#fde0ef"
            ],
            [
             0.5,
             "#f7f7f7"
            ],
            [
             0.6,
             "#e6f5d0"
            ],
            [
             0.7,
             "#b8e186"
            ],
            [
             0.8,
             "#7fbc41"
            ],
            [
             0.9,
             "#4d9221"
            ],
            [
             1,
             "#276419"
            ]
           ],
           "sequential": [
            [
             0,
             "#0d0887"
            ],
            [
             0.1111111111111111,
             "#46039f"
            ],
            [
             0.2222222222222222,
             "#7201a8"
            ],
            [
             0.3333333333333333,
             "#9c179e"
            ],
            [
             0.4444444444444444,
             "#bd3786"
            ],
            [
             0.5555555555555556,
             "#d8576b"
            ],
            [
             0.6666666666666666,
             "#ed7953"
            ],
            [
             0.7777777777777778,
             "#fb9f3a"
            ],
            [
             0.8888888888888888,
             "#fdca26"
            ],
            [
             1,
             "#f0f921"
            ]
           ],
           "sequentialminus": [
            [
             0,
             "#0d0887"
            ],
            [
             0.1111111111111111,
             "#46039f"
            ],
            [
             0.2222222222222222,
             "#7201a8"
            ],
            [
             0.3333333333333333,
             "#9c179e"
            ],
            [
             0.4444444444444444,
             "#bd3786"
            ],
            [
             0.5555555555555556,
             "#d8576b"
            ],
            [
             0.6666666666666666,
             "#ed7953"
            ],
            [
             0.7777777777777778,
             "#fb9f3a"
            ],
            [
             0.8888888888888888,
             "#fdca26"
            ],
            [
             1,
             "#f0f921"
            ]
           ]
          },
          "colorway": [
           "#636efa",
           "#EF553B",
           "#00cc96",
           "#ab63fa",
           "#FFA15A",
           "#19d3f3",
           "#FF6692",
           "#B6E880",
           "#FF97FF",
           "#FECB52"
          ],
          "font": {
           "color": "#2a3f5f"
          },
          "geo": {
           "bgcolor": "white",
           "lakecolor": "white",
           "landcolor": "#E5ECF6",
           "showlakes": true,
           "showland": true,
           "subunitcolor": "white"
          },
          "hoverlabel": {
           "align": "left"
          },
          "hovermode": "closest",
          "mapbox": {
           "style": "light"
          },
          "paper_bgcolor": "white",
          "plot_bgcolor": "#E5ECF6",
          "polar": {
           "angularaxis": {
            "gridcolor": "white",
            "linecolor": "white",
            "ticks": ""
           },
           "bgcolor": "#E5ECF6",
           "radialaxis": {
            "gridcolor": "white",
            "linecolor": "white",
            "ticks": ""
           }
          },
          "scene": {
           "xaxis": {
            "backgroundcolor": "#E5ECF6",
            "gridcolor": "white",
            "gridwidth": 2,
            "linecolor": "white",
            "showbackground": true,
            "ticks": "",
            "zerolinecolor": "white"
           },
           "yaxis": {
            "backgroundcolor": "#E5ECF6",
            "gridcolor": "white",
            "gridwidth": 2,
            "linecolor": "white",
            "showbackground": true,
            "ticks": "",
            "zerolinecolor": "white"
           },
           "zaxis": {
            "backgroundcolor": "#E5ECF6",
            "gridcolor": "white",
            "gridwidth": 2,
            "linecolor": "white",
            "showbackground": true,
            "ticks": "",
            "zerolinecolor": "white"
           }
          },
          "shapedefaults": {
           "line": {
            "color": "#2a3f5f"
           }
          },
          "ternary": {
           "aaxis": {
            "gridcolor": "white",
            "linecolor": "white",
            "ticks": ""
           },
           "baxis": {
            "gridcolor": "white",
            "linecolor": "white",
            "ticks": ""
           },
           "bgcolor": "#E5ECF6",
           "caxis": {
            "gridcolor": "white",
            "linecolor": "white",
            "ticks": ""
           }
          },
          "title": {
           "x": 0.05
          },
          "xaxis": {
           "automargin": true,
           "gridcolor": "white",
           "linecolor": "white",
           "ticks": "",
           "title": {
            "standoff": 15
           },
           "zerolinecolor": "white",
           "zerolinewidth": 2
          },
          "yaxis": {
           "automargin": true,
           "gridcolor": "white",
           "linecolor": "white",
           "ticks": "",
           "title": {
            "standoff": 15
           },
           "zerolinecolor": "white",
           "zerolinewidth": 2
          }
         }
        },
        "title": {
         "text": "Interactive ΔHeat Relative to Quartz-Based Binary Blends"
        },
        "xaxis": {
         "anchor": "y",
         "domain": [
          0,
          1
         ],
         "tickangle": -45,
         "title": {
          "text": "Group"
         }
        },
        "yaxis": {
         "anchor": "x",
         "domain": [
          0,
          1
         ],
         "title": {
          "text": "ΔHeat (J/g)"
         }
        }
       }
      }
     },
     "metadata": {},
     "output_type": "display_data"
    }
   ],
   "source": [
    "# Calculate percentage difference relative to baseline\n",
    "def calc_percent_diff(row):\n",
    "    if row['Group_names'] in pc_groups:\n",
    "        return (row['Delta_Heat'] / baseline_pc) * 100 if baseline_pc != 0 else None\n",
    "    elif row['Group_names'] in plc_groups:\n",
    "        return (row['Delta_Heat'] / baseline_plc) * 100 if baseline_plc != 0 else None\n",
    "    else:\n",
    "        return None\n",
    "\n",
    "group_mean['Percent_Difference'] = group_mean.apply(calc_percent_diff, axis=1)\n",
    "\n",
    "# Filter out baseline groups (which have no ΔHeat) for visualization\n",
    "delta_df = group_mean.dropna(subset=['Delta_Heat']).copy()\n",
    "\n",
    "# Create an annotation column that combines ΔHeat and percentage difference\n",
    "delta_df['Annotation'] = delta_df.apply(\n",
    "    lambda row: f\"{row['Delta_Heat']:.2f} J/g<br>{row['Percent_Difference']:.1f}%\", axis=1\n",
    ")\n",
    "\n",
    "# --- Create the Interactive Bar Chart ---\n",
    "fig = px.bar(\n",
    "    delta_df,\n",
    "    x=\"Group_names\",\n",
    "    y=\"Delta_Heat\",\n",
    "    title=\"Interactive ΔHeat Relative to Quartz-Based Binary Blends\",\n",
    "    labels={\"Group_names\": \"Group\", \"Delta_Heat\": \"ΔHeat (J/g)\"},\n",
    "    color=\"Delta_Heat\",\n",
    "    color_continuous_scale=\"RdBu\"\n",
    ")\n",
    "\n",
    "# Add annotations to the bars\n",
    "fig.update_traces(text=delta_df['Annotation'], textposition='outside')\n",
    "fig.update_layout(xaxis_tickangle=-45)\n",
    "fig.show()"
   ]
  }
 ],
 "metadata": {
  "kernelspec": {
   "display_name": "Python 3",
   "language": "python",
   "name": "python3"
  },
  "language_info": {
   "codemirror_mode": {
    "name": "ipython",
    "version": 3
   },
   "file_extension": ".py",
   "mimetype": "text/x-python",
   "name": "python",
   "nbconvert_exporter": "python",
   "pygments_lexer": "ipython3",
   "version": "3.12.1"
  }
 },
 "nbformat": 4,
 "nbformat_minor": 2
}
