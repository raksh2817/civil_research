{
 "cells": [
  {
   "cell_type": "code",
   "execution_count": 1,
   "metadata": {},
   "outputs": [],
   "source": [
    "#Block for imports and other setting that will be required for the code to run\n",
    "import os\n",
    "import sys\n",
    "import re\n",
    "import time\n",
    "import datetime\n",
    "import random\n",
    "import pandas as pd\n",
    "import numpy as np\n",
    "from scipy.stats import zscore\n",
    "import matplotlib.pyplot as plt\n",
    "import seaborn as sns\n"
   ]
  },
  {
   "cell_type": "code",
   "execution_count": 2,
   "metadata": {},
   "outputs": [],
   "source": [
    "df1 = pd.read_csv('new_iso1_group_names.csv',)"
   ]
  },
  {
   "cell_type": "code",
   "execution_count": 18,
   "metadata": {},
   "outputs": [
    {
     "data": {
      "text/html": [
       "<div>\n",
       "<style scoped>\n",
       "    .dataframe tbody tr th:only-of-type {\n",
       "        vertical-align: middle;\n",
       "    }\n",
       "\n",
       "    .dataframe tbody tr th {\n",
       "        vertical-align: top;\n",
       "    }\n",
       "\n",
       "    .dataframe thead th {\n",
       "        text-align: right;\n",
       "    }\n",
       "</style>\n",
       "<table border=\"1\" class=\"dataframe\">\n",
       "  <thead>\n",
       "    <tr style=\"text-align: right;\">\n",
       "      <th></th>\n",
       "      <th>Blend Number</th>\n",
       "      <th>Original Blend Name</th>\n",
       "      <th>Blend Type</th>\n",
       "      <th>Replacement Level</th>\n",
       "      <th>Group_names</th>\n",
       "      <th>PC</th>\n",
       "      <th>GPP</th>\n",
       "      <th>SC</th>\n",
       "      <th>CC</th>\n",
       "      <th>FA</th>\n",
       "      <th>VA</th>\n",
       "      <th>GBA</th>\n",
       "      <th>FBC</th>\n",
       "      <th>QUARTZ</th>\n",
       "      <th>PLC</th>\n",
       "      <th>Cumulative Heat (J/g)</th>\n",
       "    </tr>\n",
       "  </thead>\n",
       "  <tbody>\n",
       "    <tr>\n",
       "      <th>0</th>\n",
       "      <td>0</td>\n",
       "      <td>100% PC</td>\n",
       "      <td>Other</td>\n",
       "      <td>0</td>\n",
       "      <td>X</td>\n",
       "      <td>100</td>\n",
       "      <td>0</td>\n",
       "      <td>0</td>\n",
       "      <td>0</td>\n",
       "      <td>0</td>\n",
       "      <td>0</td>\n",
       "      <td>0</td>\n",
       "      <td>0</td>\n",
       "      <td>0</td>\n",
       "      <td>0</td>\n",
       "      <td>323.16</td>\n",
       "    </tr>\n",
       "    <tr>\n",
       "      <th>1</th>\n",
       "      <td>1</td>\n",
       "      <td>80% PC + 20% GPP</td>\n",
       "      <td>Binary</td>\n",
       "      <td>20</td>\n",
       "      <td>PC with GP</td>\n",
       "      <td>80</td>\n",
       "      <td>20</td>\n",
       "      <td>0</td>\n",
       "      <td>0</td>\n",
       "      <td>0</td>\n",
       "      <td>0</td>\n",
       "      <td>0</td>\n",
       "      <td>0</td>\n",
       "      <td>0</td>\n",
       "      <td>0</td>\n",
       "      <td>297.77</td>\n",
       "    </tr>\n",
       "    <tr>\n",
       "      <th>2</th>\n",
       "      <td>2</td>\n",
       "      <td>70% PC + 30% GPP</td>\n",
       "      <td>Binary</td>\n",
       "      <td>30</td>\n",
       "      <td>PC with GP</td>\n",
       "      <td>70</td>\n",
       "      <td>30</td>\n",
       "      <td>0</td>\n",
       "      <td>0</td>\n",
       "      <td>0</td>\n",
       "      <td>0</td>\n",
       "      <td>0</td>\n",
       "      <td>0</td>\n",
       "      <td>0</td>\n",
       "      <td>0</td>\n",
       "      <td>311.40</td>\n",
       "    </tr>\n",
       "    <tr>\n",
       "      <th>3</th>\n",
       "      <td>3</td>\n",
       "      <td>60% PC + 40% GPP</td>\n",
       "      <td>Binary</td>\n",
       "      <td>40</td>\n",
       "      <td>PC with GP</td>\n",
       "      <td>60</td>\n",
       "      <td>40</td>\n",
       "      <td>0</td>\n",
       "      <td>0</td>\n",
       "      <td>0</td>\n",
       "      <td>0</td>\n",
       "      <td>0</td>\n",
       "      <td>0</td>\n",
       "      <td>0</td>\n",
       "      <td>0</td>\n",
       "      <td>265.35</td>\n",
       "    </tr>\n",
       "    <tr>\n",
       "      <th>4</th>\n",
       "      <td>4</td>\n",
       "      <td>50% PC + 50% GPP</td>\n",
       "      <td>Binary</td>\n",
       "      <td>50</td>\n",
       "      <td>PC with GP</td>\n",
       "      <td>50</td>\n",
       "      <td>50</td>\n",
       "      <td>0</td>\n",
       "      <td>0</td>\n",
       "      <td>0</td>\n",
       "      <td>0</td>\n",
       "      <td>0</td>\n",
       "      <td>0</td>\n",
       "      <td>0</td>\n",
       "      <td>0</td>\n",
       "      <td>225.05</td>\n",
       "    </tr>\n",
       "  </tbody>\n",
       "</table>\n",
       "</div>"
      ],
      "text/plain": [
       "   Blend Number Original Blend Name Blend Type  Replacement Level Group_names  \\\n",
       "0             0             100% PC      Other                  0           X   \n",
       "1             1    80% PC + 20% GPP     Binary                 20  PC with GP   \n",
       "2             2    70% PC + 30% GPP     Binary                 30  PC with GP   \n",
       "3             3    60% PC + 40% GPP     Binary                 40  PC with GP   \n",
       "4             4    50% PC + 50% GPP     Binary                 50  PC with GP   \n",
       "\n",
       "    PC  GPP  SC  CC  FA  VA  GBA  FBC  QUARTZ  PLC  Cumulative Heat (J/g)  \n",
       "0  100    0   0   0   0   0    0    0       0    0                 323.16  \n",
       "1   80   20   0   0   0   0    0    0       0    0                 297.77  \n",
       "2   70   30   0   0   0   0    0    0       0    0                 311.40  \n",
       "3   60   40   0   0   0   0    0    0       0    0                 265.35  \n",
       "4   50   50   0   0   0   0    0    0       0    0                 225.05  "
      ]
     },
     "execution_count": 18,
     "metadata": {},
     "output_type": "execute_result"
    }
   ],
   "source": [
    "df1.head()"
   ]
  },
  {
   "cell_type": "code",
   "execution_count": 3,
   "metadata": {},
   "outputs": [
    {
     "data": {
      "text/html": [
       "<div>\n",
       "<style scoped>\n",
       "    .dataframe tbody tr th:only-of-type {\n",
       "        vertical-align: middle;\n",
       "    }\n",
       "\n",
       "    .dataframe tbody tr th {\n",
       "        vertical-align: top;\n",
       "    }\n",
       "\n",
       "    .dataframe thead th {\n",
       "        text-align: right;\n",
       "    }\n",
       "</style>\n",
       "<table border=\"1\" class=\"dataframe\">\n",
       "  <thead>\n",
       "    <tr style=\"text-align: right;\">\n",
       "      <th></th>\n",
       "      <th>Blend Number</th>\n",
       "      <th>Original Blend Name</th>\n",
       "      <th>Blend Type</th>\n",
       "      <th>Replacement Level</th>\n",
       "      <th>Group_names</th>\n",
       "      <th>PC</th>\n",
       "      <th>GPP</th>\n",
       "      <th>SC</th>\n",
       "      <th>CC</th>\n",
       "      <th>FA</th>\n",
       "      <th>VA</th>\n",
       "      <th>GBA</th>\n",
       "      <th>FBC</th>\n",
       "      <th>QUARTZ</th>\n",
       "      <th>PLC</th>\n",
       "      <th>Cumulative Heat (J/g)</th>\n",
       "    </tr>\n",
       "  </thead>\n",
       "  <tbody>\n",
       "    <tr>\n",
       "      <th>0</th>\n",
       "      <td>0</td>\n",
       "      <td>100% PC</td>\n",
       "      <td>Other</td>\n",
       "      <td>0</td>\n",
       "      <td>X</td>\n",
       "      <td>100</td>\n",
       "      <td>0</td>\n",
       "      <td>0</td>\n",
       "      <td>0</td>\n",
       "      <td>0</td>\n",
       "      <td>0</td>\n",
       "      <td>0</td>\n",
       "      <td>0</td>\n",
       "      <td>0</td>\n",
       "      <td>0</td>\n",
       "      <td>323.16</td>\n",
       "    </tr>\n",
       "    <tr>\n",
       "      <th>1</th>\n",
       "      <td>1</td>\n",
       "      <td>80% PC + 20% GPP</td>\n",
       "      <td>Binary</td>\n",
       "      <td>20</td>\n",
       "      <td>Group_1_PC_GP</td>\n",
       "      <td>80</td>\n",
       "      <td>20</td>\n",
       "      <td>0</td>\n",
       "      <td>0</td>\n",
       "      <td>0</td>\n",
       "      <td>0</td>\n",
       "      <td>0</td>\n",
       "      <td>0</td>\n",
       "      <td>0</td>\n",
       "      <td>0</td>\n",
       "      <td>297.77</td>\n",
       "    </tr>\n",
       "    <tr>\n",
       "      <th>2</th>\n",
       "      <td>2</td>\n",
       "      <td>70% PC + 30% GPP</td>\n",
       "      <td>Binary</td>\n",
       "      <td>30</td>\n",
       "      <td>Group_1_PC_GP</td>\n",
       "      <td>70</td>\n",
       "      <td>30</td>\n",
       "      <td>0</td>\n",
       "      <td>0</td>\n",
       "      <td>0</td>\n",
       "      <td>0</td>\n",
       "      <td>0</td>\n",
       "      <td>0</td>\n",
       "      <td>0</td>\n",
       "      <td>0</td>\n",
       "      <td>311.40</td>\n",
       "    </tr>\n",
       "    <tr>\n",
       "      <th>3</th>\n",
       "      <td>3</td>\n",
       "      <td>60% PC + 40% GPP</td>\n",
       "      <td>Binary</td>\n",
       "      <td>40</td>\n",
       "      <td>Group_1_PC_GP</td>\n",
       "      <td>60</td>\n",
       "      <td>40</td>\n",
       "      <td>0</td>\n",
       "      <td>0</td>\n",
       "      <td>0</td>\n",
       "      <td>0</td>\n",
       "      <td>0</td>\n",
       "      <td>0</td>\n",
       "      <td>0</td>\n",
       "      <td>0</td>\n",
       "      <td>265.35</td>\n",
       "    </tr>\n",
       "    <tr>\n",
       "      <th>4</th>\n",
       "      <td>4</td>\n",
       "      <td>50% PC + 50% GPP</td>\n",
       "      <td>Binary</td>\n",
       "      <td>50</td>\n",
       "      <td>Group_1_PC_GP</td>\n",
       "      <td>50</td>\n",
       "      <td>50</td>\n",
       "      <td>0</td>\n",
       "      <td>0</td>\n",
       "      <td>0</td>\n",
       "      <td>0</td>\n",
       "      <td>0</td>\n",
       "      <td>0</td>\n",
       "      <td>0</td>\n",
       "      <td>0</td>\n",
       "      <td>225.05</td>\n",
       "    </tr>\n",
       "  </tbody>\n",
       "</table>\n",
       "</div>"
      ],
      "text/plain": [
       "   Blend Number Original Blend Name Blend Type  Replacement Level  \\\n",
       "0             0             100% PC      Other                  0   \n",
       "1             1    80% PC + 20% GPP     Binary                 20   \n",
       "2             2    70% PC + 30% GPP     Binary                 30   \n",
       "3             3    60% PC + 40% GPP     Binary                 40   \n",
       "4             4    50% PC + 50% GPP     Binary                 50   \n",
       "\n",
       "     Group_names   PC  GPP  SC  CC  FA  VA  GBA  FBC  QUARTZ  PLC  \\\n",
       "0              X  100    0   0   0   0   0    0    0       0    0   \n",
       "1  Group_1_PC_GP   80   20   0   0   0   0    0    0       0    0   \n",
       "2  Group_1_PC_GP   70   30   0   0   0   0    0    0       0    0   \n",
       "3  Group_1_PC_GP   60   40   0   0   0   0    0    0       0    0   \n",
       "4  Group_1_PC_GP   50   50   0   0   0   0    0    0       0    0   \n",
       "\n",
       "   Cumulative Heat (J/g)  \n",
       "0                 323.16  \n",
       "1                 297.77  \n",
       "2                 311.40  \n",
       "3                 265.35  \n",
       "4                 225.05  "
      ]
     },
     "execution_count": 3,
     "metadata": {},
     "output_type": "execute_result"
    }
   ],
   "source": [
    "df1.head()"
   ]
  },
  {
   "cell_type": "code",
   "execution_count": 4,
   "metadata": {},
   "outputs": [
    {
     "name": "stdout",
     "output_type": "stream",
     "text": [
      "Unique Group Names After Renaming:\n",
      "['X' 'PC with GP' 'Ternary with 10% PC' 'Ternary with 20% PC'\n",
      " 'Ternary with 30% PC' 'Ternary with 40% PC' 'Ternary with 50% PC'\n",
      " 'PC with Quartz' 'PLC with GP' 'Ternary with 40% PLC'\n",
      " 'Ternary with 50% PLC' 'Ternary with 30% PLC' 'PLC with Quartz']\n"
     ]
    }
   ],
   "source": [
    "# Create a mapping dictionary to rename groups for better clarity\n",
    "rename_mapping = {\n",
    "    'Group_1_PC_GP': 'PC with GP',\n",
    "    'Group_3_PC_Q': 'PC with Quartz',\n",
    "    'Group_2_PLC_GPP': 'PLC with GP',  # Adjust based on actual group naming\n",
    "    'Group_4_PLC_Q': 'PLC with Quartz',\n",
    "    'Group_5_3_PC_30': 'Ternary with 30% PC',\n",
    "    'Group_6_3_PC_40': 'Ternary with 40% PC',\n",
    "    'Group_7_3_PC_50': 'Ternary with 50% PC',\n",
    "    'Group_8_3_PLC_30': 'Ternary with 30% PLC',\n",
    "    'Group_9_3_PLC_40': 'Ternary with 40% PLC',\n",
    "    'Group_10_3_PLC_50': 'Ternary with 50% PLC',\n",
    "    'Group_11_3_PC_10': 'Ternary with 10% PC',\n",
    "    'Group_12_3_PC_20': 'Ternary with 20% PC',\n",
    "}\n",
    "\n",
    "# Rename the values in the Group_names column using the mapping\n",
    "df1['Group_names'] = df1['Group_names'].replace(rename_mapping)\n",
    "\n",
    "# Verify the changes\n",
    "print(\"Unique Group Names After Renaming:\")\n",
    "print(df1['Group_names'].unique())"
   ]
  },
  {
   "cell_type": "code",
   "execution_count": 5,
   "metadata": {},
   "outputs": [
    {
     "name": "stdout",
     "output_type": "stream",
     "text": [
      "\n",
      "Group Counts:\n",
      "             Group_names  Count\n",
      "0             PC with GP      6\n",
      "1         PC with Quartz      6\n",
      "2            PLC with GP      5\n",
      "3        PLC with Quartz      5\n",
      "4    Ternary with 10% PC      1\n",
      "5    Ternary with 20% PC      1\n",
      "6    Ternary with 30% PC     26\n",
      "7   Ternary with 30% PLC     23\n",
      "8    Ternary with 40% PC      4\n",
      "9   Ternary with 40% PLC      4\n",
      "10   Ternary with 50% PC      4\n",
      "11  Ternary with 50% PLC      4\n",
      "12                     X      3\n"
     ]
    }
   ],
   "source": [
    "# Count the number of entries in each group\n",
    "group_counts = df1.groupby('Group_names').size().reset_index(name='Count')\n",
    "print(\"\\nGroup Counts:\")\n",
    "print(group_counts)"
   ]
  },
  {
   "cell_type": "code",
   "execution_count": 6,
   "metadata": {},
   "outputs": [
    {
     "name": "stdout",
     "output_type": "stream",
     "text": [
      "\n",
      "Cumulative Heat Summary by Group:\n",
      "             Group_names        mean   median         std\n",
      "0             PC with GP  246.138333  245.200   56.426974\n",
      "1         PC with Quartz  229.538333  240.330   57.794374\n",
      "2            PLC with GP  246.232000  251.610   33.929140\n",
      "3        PLC with Quartz  256.506000  264.260   38.358624\n",
      "4    Ternary with 10% PC  115.700000  115.700         NaN\n",
      "5    Ternary with 20% PC  149.980000  149.980         NaN\n",
      "6    Ternary with 30% PC  176.442692  174.150   19.871955\n",
      "7   Ternary with 30% PLC  168.736957  159.340   20.570325\n",
      "8    Ternary with 40% PC  198.137500  197.655    9.658493\n",
      "9   Ternary with 40% PLC  196.250000  191.225   11.816838\n",
      "10   Ternary with 50% PC  226.557500  229.940    7.989712\n",
      "11  Ternary with 50% PLC  222.070000  221.350    3.731559\n",
      "12                     X  212.516667  303.150  174.597601\n"
     ]
    }
   ],
   "source": [
    "group_summary = df1.groupby('Group_names')['Cumulative Heat (J/g)'].agg(['mean', 'median', 'std']).reset_index()\n",
    "print(\"\\nCumulative Heat Summary by Group:\")\n",
    "print(group_summary)"
   ]
  },
  {
   "cell_type": "code",
   "execution_count": 7,
   "metadata": {},
   "outputs": [
    {
     "name": "stdout",
     "output_type": "stream",
     "text": [
      "Mean Cumulative Heat by Group:\n",
      "             Group_names  Cumulative Heat (J/g)\n",
      "0             PC with GP             246.138333\n",
      "1         PC with Quartz             229.538333\n",
      "2            PLC with GP             246.232000\n",
      "3        PLC with Quartz             256.506000\n",
      "4    Ternary with 10% PC             115.700000\n",
      "5    Ternary with 20% PC             149.980000\n",
      "6    Ternary with 30% PC             176.442692\n",
      "7   Ternary with 30% PLC             168.736957\n",
      "8    Ternary with 40% PC             198.137500\n",
      "9   Ternary with 40% PLC             196.250000\n",
      "10   Ternary with 50% PC             226.557500\n",
      "11  Ternary with 50% PLC             222.070000\n",
      "12                     X             212.516667\n"
     ]
    }
   ],
   "source": [
    "# Calculate mean cumulative heat for each group\n",
    "group_mean = df1.groupby('Group_names')['Cumulative Heat (J/g)'].mean().reset_index()\n",
    "print(\"Mean Cumulative Heat by Group:\")\n",
    "print(group_mean)"
   ]
  },
  {
   "cell_type": "code",
   "execution_count": 8,
   "metadata": {},
   "outputs": [
    {
     "name": "stdout",
     "output_type": "stream",
     "text": [
      "\n",
      "Baseline PC (PC with Quartz): 229.54\n",
      "Baseline PLC (PLC with Quartz): 256.51\n"
     ]
    }
   ],
   "source": [
    "# For PC-based blends, baseline is 'PC with Quartz'\n",
    "# For PLC-based blends, baseline is 'PLC with Quartz'\n",
    "baseline_pc = round(group_mean[group_mean['Group_names'] == 'PC with Quartz']['Cumulative Heat (J/g)'].values[0],2)\n",
    "baseline_plc = round(group_mean[group_mean['Group_names'] == 'PLC with Quartz']['Cumulative Heat (J/g)'].values[0],2)\n",
    "\n",
    "print(\"\\nBaseline PC (PC with Quartz):\", baseline_pc)\n",
    "print(\"Baseline PLC (PLC with Quartz):\", baseline_plc)"
   ]
  },
  {
   "cell_type": "code",
   "execution_count": 9,
   "metadata": {},
   "outputs": [],
   "source": [
    "#Define relevant groups (excluding the Quartz-based baselines)\n",
    "\n",
    "pc_groups = ['PC with GP', 'Ternary with 30% PC', 'Ternary with 40% PC', 'Ternary with 50% PC','Ternary with 10% PC' ,'Ternary with 20% PC']\n",
    "plc_groups = ['PLC with GP', 'Ternary with 30% PLC', 'Ternary with 40% PLC', 'Ternary with 50% PLC']"
   ]
  },
  {
   "cell_type": "code",
   "execution_count": 10,
   "metadata": {},
   "outputs": [
    {
     "name": "stdout",
     "output_type": "stream",
     "text": [
      "\n",
      "Group Mean with ΔHeat (Difference relative to Quartz-based binary blend):\n",
      "             Group_names  Cumulative Heat (J/g)  Delta_Heat\n",
      "0             PC with GP             246.138333   16.598333\n",
      "1         PC with Quartz             229.538333         NaN\n",
      "2            PLC with GP             246.232000  -10.278000\n",
      "3        PLC with Quartz             256.506000         NaN\n",
      "4    Ternary with 10% PC             115.700000 -113.840000\n",
      "5    Ternary with 20% PC             149.980000  -79.560000\n",
      "6    Ternary with 30% PC             176.442692  -53.097308\n",
      "7   Ternary with 30% PLC             168.736957  -87.773043\n",
      "8    Ternary with 40% PC             198.137500  -31.402500\n",
      "9   Ternary with 40% PLC             196.250000  -60.260000\n",
      "10   Ternary with 50% PC             226.557500   -2.982500\n",
      "11  Ternary with 50% PLC             222.070000  -34.440000\n",
      "12                     X             212.516667         NaN\n"
     ]
    }
   ],
   "source": [
    "#  Create a new column 'Delta_Heat' in the group_mean DataFrame by comparing against the baseline\n",
    "def calc_diff(row):\n",
    "    if row['Group_names'] in pc_groups:\n",
    "        return row['Cumulative Heat (J/g)'] - baseline_pc\n",
    "    elif row['Group_names'] in plc_groups:\n",
    "        return row['Cumulative Heat (J/g)'] - baseline_plc\n",
    "    else:\n",
    "        # For baseline groups (and any others), return None or 0\n",
    "        return None\n",
    "\n",
    "group_mean['Delta_Heat'] = group_mean.apply(calc_diff, axis=1)\n",
    "\n",
    "print(\"\\nGroup Mean with ΔHeat (Difference relative to Quartz-based binary blend):\")\n",
    "print(group_mean)"
   ]
  },
  {
   "cell_type": "code",
   "execution_count": 13,
   "metadata": {},
   "outputs": [
    {
     "data": {
      "application/vnd.plotly.v1+json": {
       "config": {
        "plotlyServerURL": "https://plot.ly"
       },
       "data": [
        {
         "hovertemplate": "Group=%{x}<br>Mean Cumulative Heat (J/g)=%{text}<extra></extra>",
         "legendgroup": "",
         "marker": {
          "color": "#636efa",
          "pattern": {
           "shape": ""
          }
         },
         "name": "",
         "orientation": "v",
         "showlegend": false,
         "text": {
          "bdata": "oNMGOm3EbkBtoNMGOrFsQICVQ4tsx25Aarx0kxgIcEDNzMzMzOxcQI/C9Shcv2JAVvcOiSoOZkAx7tcllRdlQGZmZmZmxGhAAAAAAACIaECkcD0K11FsQArXo3A9wmtAiIiIiIiQakA=",
          "dtype": "f8"
         },
         "textposition": "outside",
         "texttemplate": "%{text:.2f}",
         "type": "bar",
         "x": [
          "PC with GP",
          "PC with Quartz",
          "PLC with GP",
          "PLC with Quartz",
          "Ternary with 10% PC",
          "Ternary with 20% PC",
          "Ternary with 30% PC",
          "Ternary with 30% PLC",
          "Ternary with 40% PC",
          "Ternary with 40% PLC",
          "Ternary with 50% PC",
          "Ternary with 50% PLC",
          "X"
         ],
         "xaxis": "x",
         "y": {
          "bdata": "oNMGOm3EbkBtoNMGOrFsQICVQ4tsx25Aarx0kxgIcEDNzMzMzOxcQI/C9Shcv2JAVvcOiSoOZkAx7tcllRdlQGZmZmZmxGhAAAAAAACIaECkcD0K11FsQArXo3A9wmtAiIiIiIiQakA=",
          "dtype": "f8"
         },
         "yaxis": "y"
        }
       ],
       "layout": {
        "barmode": "relative",
        "legend": {
         "tracegroupgap": 0
        },
        "template": {
         "data": {
          "bar": [
           {
            "error_x": {
             "color": "#2a3f5f"
            },
            "error_y": {
             "color": "#2a3f5f"
            },
            "marker": {
             "line": {
              "color": "#E5ECF6",
              "width": 0.5
             },
             "pattern": {
              "fillmode": "overlay",
              "size": 10,
              "solidity": 0.2
             }
            },
            "type": "bar"
           }
          ],
          "barpolar": [
           {
            "marker": {
             "line": {
              "color": "#E5ECF6",
              "width": 0.5
             },
             "pattern": {
              "fillmode": "overlay",
              "size": 10,
              "solidity": 0.2
             }
            },
            "type": "barpolar"
           }
          ],
          "carpet": [
           {
            "aaxis": {
             "endlinecolor": "#2a3f5f",
             "gridcolor": "white",
             "linecolor": "white",
             "minorgridcolor": "white",
             "startlinecolor": "#2a3f5f"
            },
            "baxis": {
             "endlinecolor": "#2a3f5f",
             "gridcolor": "white",
             "linecolor": "white",
             "minorgridcolor": "white",
             "startlinecolor": "#2a3f5f"
            },
            "type": "carpet"
           }
          ],
          "choropleth": [
           {
            "colorbar": {
             "outlinewidth": 0,
             "ticks": ""
            },
            "type": "choropleth"
           }
          ],
          "contour": [
           {
            "colorbar": {
             "outlinewidth": 0,
             "ticks": ""
            },
            "colorscale": [
             [
              0,
              "#0d0887"
             ],
             [
              0.1111111111111111,
              "#46039f"
             ],
             [
              0.2222222222222222,
              "#7201a8"
             ],
             [
              0.3333333333333333,
              "#9c179e"
             ],
             [
              0.4444444444444444,
              "#bd3786"
             ],
             [
              0.5555555555555556,
              "#d8576b"
             ],
             [
              0.6666666666666666,
              "#ed7953"
             ],
             [
              0.7777777777777778,
              "#fb9f3a"
             ],
             [
              0.8888888888888888,
              "#fdca26"
             ],
             [
              1,
              "#f0f921"
             ]
            ],
            "type": "contour"
           }
          ],
          "contourcarpet": [
           {
            "colorbar": {
             "outlinewidth": 0,
             "ticks": ""
            },
            "type": "contourcarpet"
           }
          ],
          "heatmap": [
           {
            "colorbar": {
             "outlinewidth": 0,
             "ticks": ""
            },
            "colorscale": [
             [
              0,
              "#0d0887"
             ],
             [
              0.1111111111111111,
              "#46039f"
             ],
             [
              0.2222222222222222,
              "#7201a8"
             ],
             [
              0.3333333333333333,
              "#9c179e"
             ],
             [
              0.4444444444444444,
              "#bd3786"
             ],
             [
              0.5555555555555556,
              "#d8576b"
             ],
             [
              0.6666666666666666,
              "#ed7953"
             ],
             [
              0.7777777777777778,
              "#fb9f3a"
             ],
             [
              0.8888888888888888,
              "#fdca26"
             ],
             [
              1,
              "#f0f921"
             ]
            ],
            "type": "heatmap"
           }
          ],
          "histogram": [
           {
            "marker": {
             "pattern": {
              "fillmode": "overlay",
              "size": 10,
              "solidity": 0.2
             }
            },
            "type": "histogram"
           }
          ],
          "histogram2d": [
           {
            "colorbar": {
             "outlinewidth": 0,
             "ticks": ""
            },
            "colorscale": [
             [
              0,
              "#0d0887"
             ],
             [
              0.1111111111111111,
              "#46039f"
             ],
             [
              0.2222222222222222,
              "#7201a8"
             ],
             [
              0.3333333333333333,
              "#9c179e"
             ],
             [
              0.4444444444444444,
              "#bd3786"
             ],
             [
              0.5555555555555556,
              "#d8576b"
             ],
             [
              0.6666666666666666,
              "#ed7953"
             ],
             [
              0.7777777777777778,
              "#fb9f3a"
             ],
             [
              0.8888888888888888,
              "#fdca26"
             ],
             [
              1,
              "#f0f921"
             ]
            ],
            "type": "histogram2d"
           }
          ],
          "histogram2dcontour": [
           {
            "colorbar": {
             "outlinewidth": 0,
             "ticks": ""
            },
            "colorscale": [
             [
              0,
              "#0d0887"
             ],
             [
              0.1111111111111111,
              "#46039f"
             ],
             [
              0.2222222222222222,
              "#7201a8"
             ],
             [
              0.3333333333333333,
              "#9c179e"
             ],
             [
              0.4444444444444444,
              "#bd3786"
             ],
             [
              0.5555555555555556,
              "#d8576b"
             ],
             [
              0.6666666666666666,
              "#ed7953"
             ],
             [
              0.7777777777777778,
              "#fb9f3a"
             ],
             [
              0.8888888888888888,
              "#fdca26"
             ],
             [
              1,
              "#f0f921"
             ]
            ],
            "type": "histogram2dcontour"
           }
          ],
          "mesh3d": [
           {
            "colorbar": {
             "outlinewidth": 0,
             "ticks": ""
            },
            "type": "mesh3d"
           }
          ],
          "parcoords": [
           {
            "line": {
             "colorbar": {
              "outlinewidth": 0,
              "ticks": ""
             }
            },
            "type": "parcoords"
           }
          ],
          "pie": [
           {
            "automargin": true,
            "type": "pie"
           }
          ],
          "scatter": [
           {
            "fillpattern": {
             "fillmode": "overlay",
             "size": 10,
             "solidity": 0.2
            },
            "type": "scatter"
           }
          ],
          "scatter3d": [
           {
            "line": {
             "colorbar": {
              "outlinewidth": 0,
              "ticks": ""
             }
            },
            "marker": {
             "colorbar": {
              "outlinewidth": 0,
              "ticks": ""
             }
            },
            "type": "scatter3d"
           }
          ],
          "scattercarpet": [
           {
            "marker": {
             "colorbar": {
              "outlinewidth": 0,
              "ticks": ""
             }
            },
            "type": "scattercarpet"
           }
          ],
          "scattergeo": [
           {
            "marker": {
             "colorbar": {
              "outlinewidth": 0,
              "ticks": ""
             }
            },
            "type": "scattergeo"
           }
          ],
          "scattergl": [
           {
            "marker": {
             "colorbar": {
              "outlinewidth": 0,
              "ticks": ""
             }
            },
            "type": "scattergl"
           }
          ],
          "scattermap": [
           {
            "marker": {
             "colorbar": {
              "outlinewidth": 0,
              "ticks": ""
             }
            },
            "type": "scattermap"
           }
          ],
          "scattermapbox": [
           {
            "marker": {
             "colorbar": {
              "outlinewidth": 0,
              "ticks": ""
             }
            },
            "type": "scattermapbox"
           }
          ],
          "scatterpolar": [
           {
            "marker": {
             "colorbar": {
              "outlinewidth": 0,
              "ticks": ""
             }
            },
            "type": "scatterpolar"
           }
          ],
          "scatterpolargl": [
           {
            "marker": {
             "colorbar": {
              "outlinewidth": 0,
              "ticks": ""
             }
            },
            "type": "scatterpolargl"
           }
          ],
          "scatterternary": [
           {
            "marker": {
             "colorbar": {
              "outlinewidth": 0,
              "ticks": ""
             }
            },
            "type": "scatterternary"
           }
          ],
          "surface": [
           {
            "colorbar": {
             "outlinewidth": 0,
             "ticks": ""
            },
            "colorscale": [
             [
              0,
              "#0d0887"
             ],
             [
              0.1111111111111111,
              "#46039f"
             ],
             [
              0.2222222222222222,
              "#7201a8"
             ],
             [
              0.3333333333333333,
              "#9c179e"
             ],
             [
              0.4444444444444444,
              "#bd3786"
             ],
             [
              0.5555555555555556,
              "#d8576b"
             ],
             [
              0.6666666666666666,
              "#ed7953"
             ],
             [
              0.7777777777777778,
              "#fb9f3a"
             ],
             [
              0.8888888888888888,
              "#fdca26"
             ],
             [
              1,
              "#f0f921"
             ]
            ],
            "type": "surface"
           }
          ],
          "table": [
           {
            "cells": {
             "fill": {
              "color": "#EBF0F8"
             },
             "line": {
              "color": "white"
             }
            },
            "header": {
             "fill": {
              "color": "#C8D4E3"
             },
             "line": {
              "color": "white"
             }
            },
            "type": "table"
           }
          ]
         },
         "layout": {
          "annotationdefaults": {
           "arrowcolor": "#2a3f5f",
           "arrowhead": 0,
           "arrowwidth": 1
          },
          "autotypenumbers": "strict",
          "coloraxis": {
           "colorbar": {
            "outlinewidth": 0,
            "ticks": ""
           }
          },
          "colorscale": {
           "diverging": [
            [
             0,
             "#8e0152"
            ],
            [
             0.1,
             "#c51b7d"
            ],
            [
             0.2,
             "#de77ae"
            ],
            [
             0.3,
             "#f1b6da"
            ],
            [
             0.4,
             "#fde0ef"
            ],
            [
             0.5,
             "#f7f7f7"
            ],
            [
             0.6,
             "#e6f5d0"
            ],
            [
             0.7,
             "#b8e186"
            ],
            [
             0.8,
             "#7fbc41"
            ],
            [
             0.9,
             "#4d9221"
            ],
            [
             1,
             "#276419"
            ]
           ],
           "sequential": [
            [
             0,
             "#0d0887"
            ],
            [
             0.1111111111111111,
             "#46039f"
            ],
            [
             0.2222222222222222,
             "#7201a8"
            ],
            [
             0.3333333333333333,
             "#9c179e"
            ],
            [
             0.4444444444444444,
             "#bd3786"
            ],
            [
             0.5555555555555556,
             "#d8576b"
            ],
            [
             0.6666666666666666,
             "#ed7953"
            ],
            [
             0.7777777777777778,
             "#fb9f3a"
            ],
            [
             0.8888888888888888,
             "#fdca26"
            ],
            [
             1,
             "#f0f921"
            ]
           ],
           "sequentialminus": [
            [
             0,
             "#0d0887"
            ],
            [
             0.1111111111111111,
             "#46039f"
            ],
            [
             0.2222222222222222,
             "#7201a8"
            ],
            [
             0.3333333333333333,
             "#9c179e"
            ],
            [
             0.4444444444444444,
             "#bd3786"
            ],
            [
             0.5555555555555556,
             "#d8576b"
            ],
            [
             0.6666666666666666,
             "#ed7953"
            ],
            [
             0.7777777777777778,
             "#fb9f3a"
            ],
            [
             0.8888888888888888,
             "#fdca26"
            ],
            [
             1,
             "#f0f921"
            ]
           ]
          },
          "colorway": [
           "#636efa",
           "#EF553B",
           "#00cc96",
           "#ab63fa",
           "#FFA15A",
           "#19d3f3",
           "#FF6692",
           "#B6E880",
           "#FF97FF",
           "#FECB52"
          ],
          "font": {
           "color": "#2a3f5f"
          },
          "geo": {
           "bgcolor": "white",
           "lakecolor": "white",
           "landcolor": "#E5ECF6",
           "showlakes": true,
           "showland": true,
           "subunitcolor": "white"
          },
          "hoverlabel": {
           "align": "left"
          },
          "hovermode": "closest",
          "mapbox": {
           "style": "light"
          },
          "paper_bgcolor": "white",
          "plot_bgcolor": "#E5ECF6",
          "polar": {
           "angularaxis": {
            "gridcolor": "white",
            "linecolor": "white",
            "ticks": ""
           },
           "bgcolor": "#E5ECF6",
           "radialaxis": {
            "gridcolor": "white",
            "linecolor": "white",
            "ticks": ""
           }
          },
          "scene": {
           "xaxis": {
            "backgroundcolor": "#E5ECF6",
            "gridcolor": "white",
            "gridwidth": 2,
            "linecolor": "white",
            "showbackground": true,
            "ticks": "",
            "zerolinecolor": "white"
           },
           "yaxis": {
            "backgroundcolor": "#E5ECF6",
            "gridcolor": "white",
            "gridwidth": 2,
            "linecolor": "white",
            "showbackground": true,
            "ticks": "",
            "zerolinecolor": "white"
           },
           "zaxis": {
            "backgroundcolor": "#E5ECF6",
            "gridcolor": "white",
            "gridwidth": 2,
            "linecolor": "white",
            "showbackground": true,
            "ticks": "",
            "zerolinecolor": "white"
           }
          },
          "shapedefaults": {
           "line": {
            "color": "#2a3f5f"
           }
          },
          "ternary": {
           "aaxis": {
            "gridcolor": "white",
            "linecolor": "white",
            "ticks": ""
           },
           "baxis": {
            "gridcolor": "white",
            "linecolor": "white",
            "ticks": ""
           },
           "bgcolor": "#E5ECF6",
           "caxis": {
            "gridcolor": "white",
            "linecolor": "white",
            "ticks": ""
           }
          },
          "title": {
           "x": 0.05
          },
          "xaxis": {
           "automargin": true,
           "gridcolor": "white",
           "linecolor": "white",
           "ticks": "",
           "title": {
            "standoff": 15
           },
           "zerolinecolor": "white",
           "zerolinewidth": 2
          },
          "yaxis": {
           "automargin": true,
           "gridcolor": "white",
           "linecolor": "white",
           "ticks": "",
           "title": {
            "standoff": 15
           },
           "zerolinecolor": "white",
           "zerolinewidth": 2
          }
         }
        },
        "title": {
         "text": "Interactive Mean Cumulative Heat by Group"
        },
        "xaxis": {
         "anchor": "y",
         "domain": [
          0,
          1
         ],
         "tickangle": -45,
         "title": {
          "text": "Group"
         }
        },
        "yaxis": {
         "anchor": "x",
         "domain": [
          0,
          1
         ],
         "title": {
          "text": "Mean Cumulative Heat (J/g)"
         }
        }
       }
      }
     },
     "metadata": {},
     "output_type": "display_data"
    }
   ],
   "source": [
    "import plotly.express as px\n",
    "\n",
    "# Interactive bar chart for mean cumulative heat\n",
    "fig = px.bar(\n",
    "    group_mean,\n",
    "    x=\"Group_names\",\n",
    "    y=\"Cumulative Heat (J/g)\",\n",
    "    title=\"Interactive Mean Cumulative Heat by Group\",\n",
    "    labels={\"Group_names\": \"Group\", \"Cumulative Heat (J/g)\": \"Mean Cumulative Heat (J/g)\"},\n",
    "    text=\"Cumulative Heat (J/g)\"\n",
    ")\n",
    "fig.update_traces(texttemplate='%{text:.2f}', textposition='outside')\n",
    "fig.update_layout(xaxis_tickangle=-45)\n",
    "fig.show()\n"
   ]
  },
  {
   "cell_type": "code",
   "execution_count": 14,
   "metadata": {},
   "outputs": [
    {
     "data": {
      "application/vnd.plotly.v1+json": {
       "config": {
        "plotlyServerURL": "https://plot.ly"
       },
       "data": [
        {
         "hovertemplate": "Group=%{x}<br>ΔHeat (J/g)=%{marker.color}<extra></extra>",
         "legendgroup": "",
         "marker": {
          "color": {
           "bdata": "+MWSXyyZMECAkxgEVo4kwPUoXI/CdVzApHA9CtfjU8AsDhaUdIxKwA5hWot58VXA2KNwPQpnP8DgehSuRyFOwECPwvUo3AfAuB6F61E4QcA=",
           "dtype": "f8"
          },
          "coloraxis": "coloraxis",
          "pattern": {
           "shape": ""
          }
         },
         "name": "",
         "orientation": "v",
         "showlegend": false,
         "text": [
          "16.60 J/g<br>7.2%",
          "-10.28 J/g<br>-4.0%",
          "-113.84 J/g<br>-49.6%",
          "-79.56 J/g<br>-34.7%",
          "-53.10 J/g<br>-23.1%",
          "-87.77 J/g<br>-34.2%",
          "-31.40 J/g<br>-13.7%",
          "-60.26 J/g<br>-23.5%",
          "-2.98 J/g<br>-1.3%",
          "-34.44 J/g<br>-13.4%"
         ],
         "textposition": "outside",
         "type": "bar",
         "x": [
          "PC with GP",
          "PLC with GP",
          "Ternary with 10% PC",
          "Ternary with 20% PC",
          "Ternary with 30% PC",
          "Ternary with 30% PLC",
          "Ternary with 40% PC",
          "Ternary with 40% PLC",
          "Ternary with 50% PC",
          "Ternary with 50% PLC"
         ],
         "xaxis": "x",
         "y": {
          "bdata": "+MWSXyyZMECAkxgEVo4kwPUoXI/CdVzApHA9CtfjU8AsDhaUdIxKwA5hWot58VXA2KNwPQpnP8DgehSuRyFOwECPwvUo3AfAuB6F61E4QcA=",
          "dtype": "f8"
         },
         "yaxis": "y"
        }
       ],
       "layout": {
        "barmode": "relative",
        "coloraxis": {
         "colorbar": {
          "title": {
           "text": "ΔHeat (J/g)"
          }
         },
         "colorscale": [
          [
           0,
           "rgb(103,0,31)"
          ],
          [
           0.1,
           "rgb(178,24,43)"
          ],
          [
           0.2,
           "rgb(214,96,77)"
          ],
          [
           0.3,
           "rgb(244,165,130)"
          ],
          [
           0.4,
           "rgb(253,219,199)"
          ],
          [
           0.5,
           "rgb(247,247,247)"
          ],
          [
           0.6,
           "rgb(209,229,240)"
          ],
          [
           0.7,
           "rgb(146,197,222)"
          ],
          [
           0.8,
           "rgb(67,147,195)"
          ],
          [
           0.9,
           "rgb(33,102,172)"
          ],
          [
           1,
           "rgb(5,48,97)"
          ]
         ]
        },
        "legend": {
         "tracegroupgap": 0
        },
        "template": {
         "data": {
          "bar": [
           {
            "error_x": {
             "color": "#2a3f5f"
            },
            "error_y": {
             "color": "#2a3f5f"
            },
            "marker": {
             "line": {
              "color": "#E5ECF6",
              "width": 0.5
             },
             "pattern": {
              "fillmode": "overlay",
              "size": 10,
              "solidity": 0.2
             }
            },
            "type": "bar"
           }
          ],
          "barpolar": [
           {
            "marker": {
             "line": {
              "color": "#E5ECF6",
              "width": 0.5
             },
             "pattern": {
              "fillmode": "overlay",
              "size": 10,
              "solidity": 0.2
             }
            },
            "type": "barpolar"
           }
          ],
          "carpet": [
           {
            "aaxis": {
             "endlinecolor": "#2a3f5f",
             "gridcolor": "white",
             "linecolor": "white",
             "minorgridcolor": "white",
             "startlinecolor": "#2a3f5f"
            },
            "baxis": {
             "endlinecolor": "#2a3f5f",
             "gridcolor": "white",
             "linecolor": "white",
             "minorgridcolor": "white",
             "startlinecolor": "#2a3f5f"
            },
            "type": "carpet"
           }
          ],
          "choropleth": [
           {
            "colorbar": {
             "outlinewidth": 0,
             "ticks": ""
            },
            "type": "choropleth"
           }
          ],
          "contour": [
           {
            "colorbar": {
             "outlinewidth": 0,
             "ticks": ""
            },
            "colorscale": [
             [
              0,
              "#0d0887"
             ],
             [
              0.1111111111111111,
              "#46039f"
             ],
             [
              0.2222222222222222,
              "#7201a8"
             ],
             [
              0.3333333333333333,
              "#9c179e"
             ],
             [
              0.4444444444444444,
              "#bd3786"
             ],
             [
              0.5555555555555556,
              "#d8576b"
             ],
             [
              0.6666666666666666,
              "#ed7953"
             ],
             [
              0.7777777777777778,
              "#fb9f3a"
             ],
             [
              0.8888888888888888,
              "#fdca26"
             ],
             [
              1,
              "#f0f921"
             ]
            ],
            "type": "contour"
           }
          ],
          "contourcarpet": [
           {
            "colorbar": {
             "outlinewidth": 0,
             "ticks": ""
            },
            "type": "contourcarpet"
           }
          ],
          "heatmap": [
           {
            "colorbar": {
             "outlinewidth": 0,
             "ticks": ""
            },
            "colorscale": [
             [
              0,
              "#0d0887"
             ],
             [
              0.1111111111111111,
              "#46039f"
             ],
             [
              0.2222222222222222,
              "#7201a8"
             ],
             [
              0.3333333333333333,
              "#9c179e"
             ],
             [
              0.4444444444444444,
              "#bd3786"
             ],
             [
              0.5555555555555556,
              "#d8576b"
             ],
             [
              0.6666666666666666,
              "#ed7953"
             ],
             [
              0.7777777777777778,
              "#fb9f3a"
             ],
             [
              0.8888888888888888,
              "#fdca26"
             ],
             [
              1,
              "#f0f921"
             ]
            ],
            "type": "heatmap"
           }
          ],
          "histogram": [
           {
            "marker": {
             "pattern": {
              "fillmode": "overlay",
              "size": 10,
              "solidity": 0.2
             }
            },
            "type": "histogram"
           }
          ],
          "histogram2d": [
           {
            "colorbar": {
             "outlinewidth": 0,
             "ticks": ""
            },
            "colorscale": [
             [
              0,
              "#0d0887"
             ],
             [
              0.1111111111111111,
              "#46039f"
             ],
             [
              0.2222222222222222,
              "#7201a8"
             ],
             [
              0.3333333333333333,
              "#9c179e"
             ],
             [
              0.4444444444444444,
              "#bd3786"
             ],
             [
              0.5555555555555556,
              "#d8576b"
             ],
             [
              0.6666666666666666,
              "#ed7953"
             ],
             [
              0.7777777777777778,
              "#fb9f3a"
             ],
             [
              0.8888888888888888,
              "#fdca26"
             ],
             [
              1,
              "#f0f921"
             ]
            ],
            "type": "histogram2d"
           }
          ],
          "histogram2dcontour": [
           {
            "colorbar": {
             "outlinewidth": 0,
             "ticks": ""
            },
            "colorscale": [
             [
              0,
              "#0d0887"
             ],
             [
              0.1111111111111111,
              "#46039f"
             ],
             [
              0.2222222222222222,
              "#7201a8"
             ],
             [
              0.3333333333333333,
              "#9c179e"
             ],
             [
              0.4444444444444444,
              "#bd3786"
             ],
             [
              0.5555555555555556,
              "#d8576b"
             ],
             [
              0.6666666666666666,
              "#ed7953"
             ],
             [
              0.7777777777777778,
              "#fb9f3a"
             ],
             [
              0.8888888888888888,
              "#fdca26"
             ],
             [
              1,
              "#f0f921"
             ]
            ],
            "type": "histogram2dcontour"
           }
          ],
          "mesh3d": [
           {
            "colorbar": {
             "outlinewidth": 0,
             "ticks": ""
            },
            "type": "mesh3d"
           }
          ],
          "parcoords": [
           {
            "line": {
             "colorbar": {
              "outlinewidth": 0,
              "ticks": ""
             }
            },
            "type": "parcoords"
           }
          ],
          "pie": [
           {
            "automargin": true,
            "type": "pie"
           }
          ],
          "scatter": [
           {
            "fillpattern": {
             "fillmode": "overlay",
             "size": 10,
             "solidity": 0.2
            },
            "type": "scatter"
           }
          ],
          "scatter3d": [
           {
            "line": {
             "colorbar": {
              "outlinewidth": 0,
              "ticks": ""
             }
            },
            "marker": {
             "colorbar": {
              "outlinewidth": 0,
              "ticks": ""
             }
            },
            "type": "scatter3d"
           }
          ],
          "scattercarpet": [
           {
            "marker": {
             "colorbar": {
              "outlinewidth": 0,
              "ticks": ""
             }
            },
            "type": "scattercarpet"
           }
          ],
          "scattergeo": [
           {
            "marker": {
             "colorbar": {
              "outlinewidth": 0,
              "ticks": ""
             }
            },
            "type": "scattergeo"
           }
          ],
          "scattergl": [
           {
            "marker": {
             "colorbar": {
              "outlinewidth": 0,
              "ticks": ""
             }
            },
            "type": "scattergl"
           }
          ],
          "scattermap": [
           {
            "marker": {
             "colorbar": {
              "outlinewidth": 0,
              "ticks": ""
             }
            },
            "type": "scattermap"
           }
          ],
          "scattermapbox": [
           {
            "marker": {
             "colorbar": {
              "outlinewidth": 0,
              "ticks": ""
             }
            },
            "type": "scattermapbox"
           }
          ],
          "scatterpolar": [
           {
            "marker": {
             "colorbar": {
              "outlinewidth": 0,
              "ticks": ""
             }
            },
            "type": "scatterpolar"
           }
          ],
          "scatterpolargl": [
           {
            "marker": {
             "colorbar": {
              "outlinewidth": 0,
              "ticks": ""
             }
            },
            "type": "scatterpolargl"
           }
          ],
          "scatterternary": [
           {
            "marker": {
             "colorbar": {
              "outlinewidth": 0,
              "ticks": ""
             }
            },
            "type": "scatterternary"
           }
          ],
          "surface": [
           {
            "colorbar": {
             "outlinewidth": 0,
             "ticks": ""
            },
            "colorscale": [
             [
              0,
              "#0d0887"
             ],
             [
              0.1111111111111111,
              "#46039f"
             ],
             [
              0.2222222222222222,
              "#7201a8"
             ],
             [
              0.3333333333333333,
              "#9c179e"
             ],
             [
              0.4444444444444444,
              "#bd3786"
             ],
             [
              0.5555555555555556,
              "#d8576b"
             ],
             [
              0.6666666666666666,
              "#ed7953"
             ],
             [
              0.7777777777777778,
              "#fb9f3a"
             ],
             [
              0.8888888888888888,
              "#fdca26"
             ],
             [
              1,
              "#f0f921"
             ]
            ],
            "type": "surface"
           }
          ],
          "table": [
           {
            "cells": {
             "fill": {
              "color": "#EBF0F8"
             },
             "line": {
              "color": "white"
             }
            },
            "header": {
             "fill": {
              "color": "#C8D4E3"
             },
             "line": {
              "color": "white"
             }
            },
            "type": "table"
           }
          ]
         },
         "layout": {
          "annotationdefaults": {
           "arrowcolor": "#2a3f5f",
           "arrowhead": 0,
           "arrowwidth": 1
          },
          "autotypenumbers": "strict",
          "coloraxis": {
           "colorbar": {
            "outlinewidth": 0,
            "ticks": ""
           }
          },
          "colorscale": {
           "diverging": [
            [
             0,
             "#8e0152"
            ],
            [
             0.1,
             "#c51b7d"
            ],
            [
             0.2,
             "#de77ae"
            ],
            [
             0.3,
             "#f1b6da"
            ],
            [
             0.4,
             "#fde0ef"
            ],
            [
             0.5,
             "#f7f7f7"
            ],
            [
             0.6,
             "#e6f5d0"
            ],
            [
             0.7,
             "#b8e186"
            ],
            [
             0.8,
             "#7fbc41"
            ],
            [
             0.9,
             "#4d9221"
            ],
            [
             1,
             "#276419"
            ]
           ],
           "sequential": [
            [
             0,
             "#0d0887"
            ],
            [
             0.1111111111111111,
             "#46039f"
            ],
            [
             0.2222222222222222,
             "#7201a8"
            ],
            [
             0.3333333333333333,
             "#9c179e"
            ],
            [
             0.4444444444444444,
             "#bd3786"
            ],
            [
             0.5555555555555556,
             "#d8576b"
            ],
            [
             0.6666666666666666,
             "#ed7953"
            ],
            [
             0.7777777777777778,
             "#fb9f3a"
            ],
            [
             0.8888888888888888,
             "#fdca26"
            ],
            [
             1,
             "#f0f921"
            ]
           ],
           "sequentialminus": [
            [
             0,
             "#0d0887"
            ],
            [
             0.1111111111111111,
             "#46039f"
            ],
            [
             0.2222222222222222,
             "#7201a8"
            ],
            [
             0.3333333333333333,
             "#9c179e"
            ],
            [
             0.4444444444444444,
             "#bd3786"
            ],
            [
             0.5555555555555556,
             "#d8576b"
            ],
            [
             0.6666666666666666,
             "#ed7953"
            ],
            [
             0.7777777777777778,
             "#fb9f3a"
            ],
            [
             0.8888888888888888,
             "#fdca26"
            ],
            [
             1,
             "#f0f921"
            ]
           ]
          },
          "colorway": [
           "#636efa",
           "#EF553B",
           "#00cc96",
           "#ab63fa",
           "#FFA15A",
           "#19d3f3",
           "#FF6692",
           "#B6E880",
           "#FF97FF",
           "#FECB52"
          ],
          "font": {
           "color": "#2a3f5f"
          },
          "geo": {
           "bgcolor": "white",
           "lakecolor": "white",
           "landcolor": "#E5ECF6",
           "showlakes": true,
           "showland": true,
           "subunitcolor": "white"
          },
          "hoverlabel": {
           "align": "left"
          },
          "hovermode": "closest",
          "mapbox": {
           "style": "light"
          },
          "paper_bgcolor": "white",
          "plot_bgcolor": "#E5ECF6",
          "polar": {
           "angularaxis": {
            "gridcolor": "white",
            "linecolor": "white",
            "ticks": ""
           },
           "bgcolor": "#E5ECF6",
           "radialaxis": {
            "gridcolor": "white",
            "linecolor": "white",
            "ticks": ""
           }
          },
          "scene": {
           "xaxis": {
            "backgroundcolor": "#E5ECF6",
            "gridcolor": "white",
            "gridwidth": 2,
            "linecolor": "white",
            "showbackground": true,
            "ticks": "",
            "zerolinecolor": "white"
           },
           "yaxis": {
            "backgroundcolor": "#E5ECF6",
            "gridcolor": "white",
            "gridwidth": 2,
            "linecolor": "white",
            "showbackground": true,
            "ticks": "",
            "zerolinecolor": "white"
           },
           "zaxis": {
            "backgroundcolor": "#E5ECF6",
            "gridcolor": "white",
            "gridwidth": 2,
            "linecolor": "white",
            "showbackground": true,
            "ticks": "",
            "zerolinecolor": "white"
           }
          },
          "shapedefaults": {
           "line": {
            "color": "#2a3f5f"
           }
          },
          "ternary": {
           "aaxis": {
            "gridcolor": "white",
            "linecolor": "white",
            "ticks": ""
           },
           "baxis": {
            "gridcolor": "white",
            "linecolor": "white",
            "ticks": ""
           },
           "bgcolor": "#E5ECF6",
           "caxis": {
            "gridcolor": "white",
            "linecolor": "white",
            "ticks": ""
           }
          },
          "title": {
           "x": 0.05
          },
          "xaxis": {
           "automargin": true,
           "gridcolor": "white",
           "linecolor": "white",
           "ticks": "",
           "title": {
            "standoff": 15
           },
           "zerolinecolor": "white",
           "zerolinewidth": 2
          },
          "yaxis": {
           "automargin": true,
           "gridcolor": "white",
           "linecolor": "white",
           "ticks": "",
           "title": {
            "standoff": 15
           },
           "zerolinecolor": "white",
           "zerolinewidth": 2
          }
         }
        },
        "title": {
         "text": "Interactive ΔHeat Relative to Quartz-Based Binary Blends"
        },
        "xaxis": {
         "anchor": "y",
         "domain": [
          0,
          1
         ],
         "tickangle": -45,
         "title": {
          "text": "Group"
         }
        },
        "yaxis": {
         "anchor": "x",
         "domain": [
          0,
          1
         ],
         "title": {
          "text": "ΔHeat (J/g)"
         }
        }
       }
      }
     },
     "metadata": {},
     "output_type": "display_data"
    }
   ],
   "source": [
    "# Calculate percentage difference relative to baseline\n",
    "def calc_percent_diff(row):\n",
    "    if row['Group_names'] in pc_groups:\n",
    "        return (row['Delta_Heat'] / baseline_pc) * 100 if baseline_pc != 0 else None\n",
    "    elif row['Group_names'] in plc_groups:\n",
    "        return (row['Delta_Heat'] / baseline_plc) * 100 if baseline_plc != 0 else None\n",
    "    else:\n",
    "        return None\n",
    "\n",
    "group_mean['Percent_Difference'] = group_mean.apply(calc_percent_diff, axis=1)\n",
    "\n",
    "# Filter out baseline groups (which have no ΔHeat) for visualization\n",
    "delta_df = group_mean.dropna(subset=['Delta_Heat']).copy()\n",
    "\n",
    "# Create an annotation column that combines ΔHeat and percentage difference\n",
    "delta_df['Annotation'] = delta_df.apply(\n",
    "    lambda row: f\"{row['Delta_Heat']:.2f} J/g<br>{row['Percent_Difference']:.1f}%\", axis=1\n",
    ")\n",
    "\n",
    "# --- Create the Interactive Bar Chart ---\n",
    "fig = px.bar(\n",
    "    delta_df,\n",
    "    x=\"Group_names\",\n",
    "    y=\"Delta_Heat\",\n",
    "    title=\"Interactive ΔHeat Relative to Quartz-Based Binary Blends\",\n",
    "    labels={\"Group_names\": \"Group\", \"Delta_Heat\": \"ΔHeat (J/g)\"},\n",
    "    color=\"Delta_Heat\",\n",
    "    color_continuous_scale=\"RdBu\"\n",
    ")\n",
    "\n",
    "# Add annotations to the bars\n",
    "fig.update_traces(text=delta_df['Annotation'], textposition='outside')\n",
    "fig.update_layout(xaxis_tickangle=-45)\n",
    "fig.show()"
   ]
  },
  {
   "cell_type": "markdown",
   "metadata": {},
   "source": [
    "#### 🔍 Insight: ΔHeat Relative to Quartz-Based Binary Blends\n",
    "\n",
    "This interactive bar chart highlights how each blend group performs relative to its Quartz-based baseline:\n",
    "\n",
    "- **Positive ΔHeat values** indicate that the SCMs in that group contribute additional hydration energy beyond the baseline binder (PC or PLC).\n",
    "- **Percentage difference** provides a relative measure of how much improvement (or reduction) is achieved in heat release.\n",
    "- For example, groups like *Ternary with 50% PC* and *PC with GP* show strong heat contribution, suggesting highly reactive SCM interactions.\n",
    "- In contrast, smaller ΔHeat or percentage gains may indicate limited reactivity or possible dilution effects.\n",
    "- This comparison avoids cross-binder confusion by ensuring PC and PLC groups are only compared with their respective baselines.\n",
    "\n",
    "Use this insight to prioritize **efficient and reactive blend designs** while maintaining binder-type consistency.\n"
   ]
  },
  {
   "cell_type": "code",
   "execution_count": 16,
   "metadata": {},
   "outputs": [
    {
     "data": {
      "application/vnd.plotly.v1+json": {
       "config": {
        "plotlyServerURL": "https://plot.ly"
       },
       "data": [
        {
         "alignmentgroup": "True",
         "boxpoints": "all",
         "hovertemplate": "Group=%{x}<br>Cumulative Heat (J/g)=%{y}<extra></extra>",
         "legendgroup": "PC with GP",
         "marker": {
          "color": "#636efa"
         },
         "name": "PC with GP",
         "notched": false,
         "offsetgroup": "PC with GP",
         "orientation": "v",
         "showlegend": true,
         "type": "box",
         "x": [
          "PC with GP",
          "PC with GP",
          "PC with GP",
          "PC with GP",
          "PC with GP",
          "PC with GP"
         ],
         "x0": " ",
         "xaxis": "x",
         "y": {
          "bdata": "uB6F61GcckBmZmZmZnZzQJqZmZmZlXBAmpmZmZkhbECkcD0K1xNrQBSuR+F6FGRA",
          "dtype": "f8"
         },
         "y0": " ",
         "yaxis": "y"
        },
        {
         "alignmentgroup": "True",
         "boxpoints": "all",
         "hovertemplate": "Group=%{x}<br>Cumulative Heat (J/g)=%{y}<extra></extra>",
         "legendgroup": "Ternary with 30% PC",
         "marker": {
          "color": "#EF553B"
         },
         "name": "Ternary with 30% PC",
         "notched": false,
         "offsetgroup": "Ternary with 30% PC",
         "orientation": "v",
         "showlegend": true,
         "type": "box",
         "x": [
          "Ternary with 30% PC",
          "Ternary with 30% PC",
          "Ternary with 30% PC",
          "Ternary with 30% PC",
          "Ternary with 30% PC",
          "Ternary with 30% PC",
          "Ternary with 30% PC",
          "Ternary with 30% PC",
          "Ternary with 30% PC",
          "Ternary with 30% PC",
          "Ternary with 30% PC",
          "Ternary with 30% PC",
          "Ternary with 30% PC",
          "Ternary with 30% PC",
          "Ternary with 30% PC",
          "Ternary with 30% PC",
          "Ternary with 30% PC",
          "Ternary with 30% PC",
          "Ternary with 30% PC",
          "Ternary with 30% PC",
          "Ternary with 30% PC",
          "Ternary with 30% PC",
          "Ternary with 30% PC",
          "Ternary with 30% PC",
          "Ternary with 30% PC",
          "Ternary with 30% PC"
         ],
         "x0": " ",
         "xaxis": "x",
         "y": {
          "bdata": "9ihcj8KNZkDD9Shcj+pmQBSuR+F6VGlAzczMzMw0a0AUrkfhelRoQJqZmZmZ0WtAFK5H4XpsZkDNzMzMzBxnQI/C9Shcn2dAKVyPwvUQZUDNzMzMzNxlQHsUrkfhAmZAFK5H4XoMaECamZmZmdloQFK4HoXrSWNApHA9CtdDY0ApXI/C9fhhQD0K16NwtWNAKVyPwvWYZED2KFyPwkVkQHsUrkfhOmNAw/UoXI8CZEDNzMzMzKxlQMP1KFyPUmVA4XoUrkcRZEC4HoXrUeBkQA==",
          "dtype": "f8"
         },
         "y0": " ",
         "yaxis": "y"
        },
        {
         "alignmentgroup": "True",
         "boxpoints": "all",
         "hovertemplate": "Group=%{x}<br>Cumulative Heat (J/g)=%{y}<extra></extra>",
         "legendgroup": "Ternary with 40% PC",
         "marker": {
          "color": "#00cc96"
         },
         "name": "Ternary with 40% PC",
         "notched": false,
         "offsetgroup": "Ternary with 40% PC",
         "orientation": "v",
         "showlegend": true,
         "type": "box",
         "x": [
          "Ternary with 40% PC",
          "Ternary with 40% PC",
          "Ternary with 40% PC",
          "Ternary with 40% PC"
         ],
         "x0": " ",
         "xaxis": "x",
         "y": {
          "bdata": "FK5H4XpMakAzMzMzM1tnQK5H4XoUlmhApHA9CtfTaEA=",
          "dtype": "f8"
         },
         "y0": " ",
         "yaxis": "y"
        },
        {
         "alignmentgroup": "True",
         "boxpoints": "all",
         "hovertemplate": "Group=%{x}<br>Cumulative Heat (J/g)=%{y}<extra></extra>",
         "legendgroup": "Ternary with 50% PC",
         "marker": {
          "color": "#ab63fa"
         },
         "name": "Ternary with 50% PC",
         "notched": false,
         "offsetgroup": "Ternary with 50% PC",
         "orientation": "v",
         "showlegend": true,
         "type": "box",
         "x": [
          "Ternary with 50% PC",
          "Ternary with 50% PC",
          "Ternary with 50% PC",
          "Ternary with 50% PC"
         ],
         "x0": " ",
         "xaxis": "x",
         "y": {
          "bdata": "PQrXo3D1bED2KFyPwtVqQDMzMzMzo2xAKVyPwvXYbEA=",
          "dtype": "f8"
         },
         "y0": " ",
         "yaxis": "y"
        },
        {
         "alignmentgroup": "True",
         "boxpoints": "all",
         "hovertemplate": "Group=%{x}<br>Cumulative Heat (J/g)=%{y}<extra></extra>",
         "legendgroup": "PLC with GP",
         "marker": {
          "color": "#FFA15A"
         },
         "name": "PLC with GP",
         "notched": false,
         "offsetgroup": "PLC with GP",
         "orientation": "v",
         "showlegend": true,
         "type": "box",
         "x": [
          "PLC with GP",
          "PLC with GP",
          "PLC with GP",
          "PLC with GP",
          "PLC with GP"
         ],
         "x0": " ",
         "xaxis": "x",
         "y": {
          "bdata": "PQrXo3BRcUAzMzMzM3txQOxRuB6Fc29A16NwPQova0DhehSuR6lpQA==",
          "dtype": "f8"
         },
         "y0": " ",
         "yaxis": "y"
        },
        {
         "alignmentgroup": "True",
         "boxpoints": "all",
         "hovertemplate": "Group=%{x}<br>Cumulative Heat (J/g)=%{y}<extra></extra>",
         "legendgroup": "Ternary with 40% PLC",
         "marker": {
          "color": "#19d3f3"
         },
         "name": "Ternary with 40% PLC",
         "notched": false,
         "offsetgroup": "Ternary with 40% PLC",
         "orientation": "v",
         "showlegend": true,
         "type": "box",
         "x": [
          "Ternary with 40% PLC",
          "Ternary with 40% PLC",
          "Ternary with 40% PLC",
          "Ternary with 40% PLC"
         ],
         "x0": " ",
         "xaxis": "x",
         "y": {
          "bdata": "uB6F61G4akCPwvUoXB9oQNejcD0Kr2dA4XoUrkeZZ0A=",
          "dtype": "f8"
         },
         "y0": " ",
         "yaxis": "y"
        },
        {
         "alignmentgroup": "True",
         "boxpoints": "all",
         "hovertemplate": "Group=%{x}<br>Cumulative Heat (J/g)=%{y}<extra></extra>",
         "legendgroup": "Ternary with 50% PLC",
         "marker": {
          "color": "#FF6692"
         },
         "name": "Ternary with 50% PLC",
         "notched": false,
         "offsetgroup": "Ternary with 50% PLC",
         "orientation": "v",
         "showlegend": true,
         "type": "box",
         "x": [
          "Ternary with 50% PLC",
          "Ternary with 50% PLC",
          "Ternary with 50% PLC",
          "Ternary with 50% PLC"
         ],
         "x0": " ",
         "xaxis": "x",
         "y": {
          "bdata": "j8L1KFxXbEAzMzMzM1trQPYoXI/C7WtAcT0K16Noa0A=",
          "dtype": "f8"
         },
         "y0": " ",
         "yaxis": "y"
        },
        {
         "alignmentgroup": "True",
         "boxpoints": "all",
         "hovertemplate": "Group=%{x}<br>Cumulative Heat (J/g)=%{y}<extra></extra>",
         "legendgroup": "Ternary with 30% PLC",
         "marker": {
          "color": "#B6E880"
         },
         "name": "Ternary with 30% PLC",
         "notched": false,
         "offsetgroup": "Ternary with 30% PLC",
         "orientation": "v",
         "showlegend": true,
         "type": "box",
         "x": [
          "Ternary with 30% PLC",
          "Ternary with 30% PLC",
          "Ternary with 30% PLC",
          "Ternary with 30% PLC",
          "Ternary with 30% PLC",
          "Ternary with 30% PLC",
          "Ternary with 30% PLC",
          "Ternary with 30% PLC",
          "Ternary with 30% PLC",
          "Ternary with 30% PLC",
          "Ternary with 30% PLC",
          "Ternary with 30% PLC",
          "Ternary with 30% PLC",
          "Ternary with 30% PLC",
          "Ternary with 30% PLC",
          "Ternary with 30% PLC",
          "Ternary with 30% PLC",
          "Ternary with 30% PLC",
          "Ternary with 30% PLC",
          "Ternary with 30% PLC",
          "Ternary with 30% PLC",
          "Ternary with 30% PLC",
          "Ternary with 30% PLC"
         ],
         "x0": " ",
         "xaxis": "x",
         "y": {
          "bdata": "rkfhehSWZUCkcD0K1xNqQKRwPQrXO2pA7FG4HoXLakAfhetRuBZpQGZmZmZmbmVAUrgehet5ZUAAAAAAAPhmQHsUrkfh6mNACtejcD2KY0AfhetRuE5iQAAAAAAAeGNACtejcD3qY0D2KFyPwi1jQMP1KFyPamJAAAAAAACYY0A9CtejcF1kQHE9CtejWGNArkfhehTOYkCamZmZmaFjQArXo3A94mNAKVyPwvV4ZEAfhetRuJ5kQA==",
          "dtype": "f8"
         },
         "y0": " ",
         "yaxis": "y"
        }
       ],
       "layout": {
        "boxmode": "overlay",
        "height": 600,
        "legend": {
         "title": {
          "text": "Group"
         },
         "tracegroupgap": 0
        },
        "showlegend": false,
        "template": {
         "data": {
          "bar": [
           {
            "error_x": {
             "color": "#2a3f5f"
            },
            "error_y": {
             "color": "#2a3f5f"
            },
            "marker": {
             "line": {
              "color": "#E5ECF6",
              "width": 0.5
             },
             "pattern": {
              "fillmode": "overlay",
              "size": 10,
              "solidity": 0.2
             }
            },
            "type": "bar"
           }
          ],
          "barpolar": [
           {
            "marker": {
             "line": {
              "color": "#E5ECF6",
              "width": 0.5
             },
             "pattern": {
              "fillmode": "overlay",
              "size": 10,
              "solidity": 0.2
             }
            },
            "type": "barpolar"
           }
          ],
          "carpet": [
           {
            "aaxis": {
             "endlinecolor": "#2a3f5f",
             "gridcolor": "white",
             "linecolor": "white",
             "minorgridcolor": "white",
             "startlinecolor": "#2a3f5f"
            },
            "baxis": {
             "endlinecolor": "#2a3f5f",
             "gridcolor": "white",
             "linecolor": "white",
             "minorgridcolor": "white",
             "startlinecolor": "#2a3f5f"
            },
            "type": "carpet"
           }
          ],
          "choropleth": [
           {
            "colorbar": {
             "outlinewidth": 0,
             "ticks": ""
            },
            "type": "choropleth"
           }
          ],
          "contour": [
           {
            "colorbar": {
             "outlinewidth": 0,
             "ticks": ""
            },
            "colorscale": [
             [
              0,
              "#0d0887"
             ],
             [
              0.1111111111111111,
              "#46039f"
             ],
             [
              0.2222222222222222,
              "#7201a8"
             ],
             [
              0.3333333333333333,
              "#9c179e"
             ],
             [
              0.4444444444444444,
              "#bd3786"
             ],
             [
              0.5555555555555556,
              "#d8576b"
             ],
             [
              0.6666666666666666,
              "#ed7953"
             ],
             [
              0.7777777777777778,
              "#fb9f3a"
             ],
             [
              0.8888888888888888,
              "#fdca26"
             ],
             [
              1,
              "#f0f921"
             ]
            ],
            "type": "contour"
           }
          ],
          "contourcarpet": [
           {
            "colorbar": {
             "outlinewidth": 0,
             "ticks": ""
            },
            "type": "contourcarpet"
           }
          ],
          "heatmap": [
           {
            "colorbar": {
             "outlinewidth": 0,
             "ticks": ""
            },
            "colorscale": [
             [
              0,
              "#0d0887"
             ],
             [
              0.1111111111111111,
              "#46039f"
             ],
             [
              0.2222222222222222,
              "#7201a8"
             ],
             [
              0.3333333333333333,
              "#9c179e"
             ],
             [
              0.4444444444444444,
              "#bd3786"
             ],
             [
              0.5555555555555556,
              "#d8576b"
             ],
             [
              0.6666666666666666,
              "#ed7953"
             ],
             [
              0.7777777777777778,
              "#fb9f3a"
             ],
             [
              0.8888888888888888,
              "#fdca26"
             ],
             [
              1,
              "#f0f921"
             ]
            ],
            "type": "heatmap"
           }
          ],
          "histogram": [
           {
            "marker": {
             "pattern": {
              "fillmode": "overlay",
              "size": 10,
              "solidity": 0.2
             }
            },
            "type": "histogram"
           }
          ],
          "histogram2d": [
           {
            "colorbar": {
             "outlinewidth": 0,
             "ticks": ""
            },
            "colorscale": [
             [
              0,
              "#0d0887"
             ],
             [
              0.1111111111111111,
              "#46039f"
             ],
             [
              0.2222222222222222,
              "#7201a8"
             ],
             [
              0.3333333333333333,
              "#9c179e"
             ],
             [
              0.4444444444444444,
              "#bd3786"
             ],
             [
              0.5555555555555556,
              "#d8576b"
             ],
             [
              0.6666666666666666,
              "#ed7953"
             ],
             [
              0.7777777777777778,
              "#fb9f3a"
             ],
             [
              0.8888888888888888,
              "#fdca26"
             ],
             [
              1,
              "#f0f921"
             ]
            ],
            "type": "histogram2d"
           }
          ],
          "histogram2dcontour": [
           {
            "colorbar": {
             "outlinewidth": 0,
             "ticks": ""
            },
            "colorscale": [
             [
              0,
              "#0d0887"
             ],
             [
              0.1111111111111111,
              "#46039f"
             ],
             [
              0.2222222222222222,
              "#7201a8"
             ],
             [
              0.3333333333333333,
              "#9c179e"
             ],
             [
              0.4444444444444444,
              "#bd3786"
             ],
             [
              0.5555555555555556,
              "#d8576b"
             ],
             [
              0.6666666666666666,
              "#ed7953"
             ],
             [
              0.7777777777777778,
              "#fb9f3a"
             ],
             [
              0.8888888888888888,
              "#fdca26"
             ],
             [
              1,
              "#f0f921"
             ]
            ],
            "type": "histogram2dcontour"
           }
          ],
          "mesh3d": [
           {
            "colorbar": {
             "outlinewidth": 0,
             "ticks": ""
            },
            "type": "mesh3d"
           }
          ],
          "parcoords": [
           {
            "line": {
             "colorbar": {
              "outlinewidth": 0,
              "ticks": ""
             }
            },
            "type": "parcoords"
           }
          ],
          "pie": [
           {
            "automargin": true,
            "type": "pie"
           }
          ],
          "scatter": [
           {
            "fillpattern": {
             "fillmode": "overlay",
             "size": 10,
             "solidity": 0.2
            },
            "type": "scatter"
           }
          ],
          "scatter3d": [
           {
            "line": {
             "colorbar": {
              "outlinewidth": 0,
              "ticks": ""
             }
            },
            "marker": {
             "colorbar": {
              "outlinewidth": 0,
              "ticks": ""
             }
            },
            "type": "scatter3d"
           }
          ],
          "scattercarpet": [
           {
            "marker": {
             "colorbar": {
              "outlinewidth": 0,
              "ticks": ""
             }
            },
            "type": "scattercarpet"
           }
          ],
          "scattergeo": [
           {
            "marker": {
             "colorbar": {
              "outlinewidth": 0,
              "ticks": ""
             }
            },
            "type": "scattergeo"
           }
          ],
          "scattergl": [
           {
            "marker": {
             "colorbar": {
              "outlinewidth": 0,
              "ticks": ""
             }
            },
            "type": "scattergl"
           }
          ],
          "scattermap": [
           {
            "marker": {
             "colorbar": {
              "outlinewidth": 0,
              "ticks": ""
             }
            },
            "type": "scattermap"
           }
          ],
          "scattermapbox": [
           {
            "marker": {
             "colorbar": {
              "outlinewidth": 0,
              "ticks": ""
             }
            },
            "type": "scattermapbox"
           }
          ],
          "scatterpolar": [
           {
            "marker": {
             "colorbar": {
              "outlinewidth": 0,
              "ticks": ""
             }
            },
            "type": "scatterpolar"
           }
          ],
          "scatterpolargl": [
           {
            "marker": {
             "colorbar": {
              "outlinewidth": 0,
              "ticks": ""
             }
            },
            "type": "scatterpolargl"
           }
          ],
          "scatterternary": [
           {
            "marker": {
             "colorbar": {
              "outlinewidth": 0,
              "ticks": ""
             }
            },
            "type": "scatterternary"
           }
          ],
          "surface": [
           {
            "colorbar": {
             "outlinewidth": 0,
             "ticks": ""
            },
            "colorscale": [
             [
              0,
              "#0d0887"
             ],
             [
              0.1111111111111111,
              "#46039f"
             ],
             [
              0.2222222222222222,
              "#7201a8"
             ],
             [
              0.3333333333333333,
              "#9c179e"
             ],
             [
              0.4444444444444444,
              "#bd3786"
             ],
             [
              0.5555555555555556,
              "#d8576b"
             ],
             [
              0.6666666666666666,
              "#ed7953"
             ],
             [
              0.7777777777777778,
              "#fb9f3a"
             ],
             [
              0.8888888888888888,
              "#fdca26"
             ],
             [
              1,
              "#f0f921"
             ]
            ],
            "type": "surface"
           }
          ],
          "table": [
           {
            "cells": {
             "fill": {
              "color": "#EBF0F8"
             },
             "line": {
              "color": "white"
             }
            },
            "header": {
             "fill": {
              "color": "#C8D4E3"
             },
             "line": {
              "color": "white"
             }
            },
            "type": "table"
           }
          ]
         },
         "layout": {
          "annotationdefaults": {
           "arrowcolor": "#2a3f5f",
           "arrowhead": 0,
           "arrowwidth": 1
          },
          "autotypenumbers": "strict",
          "coloraxis": {
           "colorbar": {
            "outlinewidth": 0,
            "ticks": ""
           }
          },
          "colorscale": {
           "diverging": [
            [
             0,
             "#8e0152"
            ],
            [
             0.1,
             "#c51b7d"
            ],
            [
             0.2,
             "#de77ae"
            ],
            [
             0.3,
             "#f1b6da"
            ],
            [
             0.4,
             "#fde0ef"
            ],
            [
             0.5,
             "#f7f7f7"
            ],
            [
             0.6,
             "#e6f5d0"
            ],
            [
             0.7,
             "#b8e186"
            ],
            [
             0.8,
             "#7fbc41"
            ],
            [
             0.9,
             "#4d9221"
            ],
            [
             1,
             "#276419"
            ]
           ],
           "sequential": [
            [
             0,
             "#0d0887"
            ],
            [
             0.1111111111111111,
             "#46039f"
            ],
            [
             0.2222222222222222,
             "#7201a8"
            ],
            [
             0.3333333333333333,
             "#9c179e"
            ],
            [
             0.4444444444444444,
             "#bd3786"
            ],
            [
             0.5555555555555556,
             "#d8576b"
            ],
            [
             0.6666666666666666,
             "#ed7953"
            ],
            [
             0.7777777777777778,
             "#fb9f3a"
            ],
            [
             0.8888888888888888,
             "#fdca26"
            ],
            [
             1,
             "#f0f921"
            ]
           ],
           "sequentialminus": [
            [
             0,
             "#0d0887"
            ],
            [
             0.1111111111111111,
             "#46039f"
            ],
            [
             0.2222222222222222,
             "#7201a8"
            ],
            [
             0.3333333333333333,
             "#9c179e"
            ],
            [
             0.4444444444444444,
             "#bd3786"
            ],
            [
             0.5555555555555556,
             "#d8576b"
            ],
            [
             0.6666666666666666,
             "#ed7953"
            ],
            [
             0.7777777777777778,
             "#fb9f3a"
            ],
            [
             0.8888888888888888,
             "#fdca26"
            ],
            [
             1,
             "#f0f921"
            ]
           ]
          },
          "colorway": [
           "#636efa",
           "#EF553B",
           "#00cc96",
           "#ab63fa",
           "#FFA15A",
           "#19d3f3",
           "#FF6692",
           "#B6E880",
           "#FF97FF",
           "#FECB52"
          ],
          "font": {
           "color": "#2a3f5f"
          },
          "geo": {
           "bgcolor": "white",
           "lakecolor": "white",
           "landcolor": "#E5ECF6",
           "showlakes": true,
           "showland": true,
           "subunitcolor": "white"
          },
          "hoverlabel": {
           "align": "left"
          },
          "hovermode": "closest",
          "mapbox": {
           "style": "light"
          },
          "paper_bgcolor": "white",
          "plot_bgcolor": "#E5ECF6",
          "polar": {
           "angularaxis": {
            "gridcolor": "white",
            "linecolor": "white",
            "ticks": ""
           },
           "bgcolor": "#E5ECF6",
           "radialaxis": {
            "gridcolor": "white",
            "linecolor": "white",
            "ticks": ""
           }
          },
          "scene": {
           "xaxis": {
            "backgroundcolor": "#E5ECF6",
            "gridcolor": "white",
            "gridwidth": 2,
            "linecolor": "white",
            "showbackground": true,
            "ticks": "",
            "zerolinecolor": "white"
           },
           "yaxis": {
            "backgroundcolor": "#E5ECF6",
            "gridcolor": "white",
            "gridwidth": 2,
            "linecolor": "white",
            "showbackground": true,
            "ticks": "",
            "zerolinecolor": "white"
           },
           "zaxis": {
            "backgroundcolor": "#E5ECF6",
            "gridcolor": "white",
            "gridwidth": 2,
            "linecolor": "white",
            "showbackground": true,
            "ticks": "",
            "zerolinecolor": "white"
           }
          },
          "shapedefaults": {
           "line": {
            "color": "#2a3f5f"
           }
          },
          "ternary": {
           "aaxis": {
            "gridcolor": "white",
            "linecolor": "white",
            "ticks": ""
           },
           "baxis": {
            "gridcolor": "white",
            "linecolor": "white",
            "ticks": ""
           },
           "bgcolor": "#E5ECF6",
           "caxis": {
            "gridcolor": "white",
            "linecolor": "white",
            "ticks": ""
           }
          },
          "title": {
           "x": 0.05
          },
          "xaxis": {
           "automargin": true,
           "gridcolor": "white",
           "linecolor": "white",
           "ticks": "",
           "title": {
            "standoff": 15
           },
           "zerolinecolor": "white",
           "zerolinewidth": 2
          },
          "yaxis": {
           "automargin": true,
           "gridcolor": "white",
           "linecolor": "white",
           "ticks": "",
           "title": {
            "standoff": 15
           },
           "zerolinecolor": "white",
           "zerolinewidth": 2
          }
         }
        },
        "title": {
         "text": "📦 Interactive Boxplot: Cumulative Heat Distribution by Group"
        },
        "width": 1000,
        "xaxis": {
         "anchor": "y",
         "categoryarray": [
          "PC with GP",
          "Ternary with 30% PC",
          "Ternary with 40% PC",
          "Ternary with 50% PC",
          "PLC with GP",
          "Ternary with 40% PLC",
          "Ternary with 50% PLC",
          "Ternary with 30% PLC"
         ],
         "categoryorder": "array",
         "domain": [
          0,
          1
         ],
         "tickangle": -45,
         "title": {
          "text": "Group"
         }
        },
        "yaxis": {
         "anchor": "x",
         "domain": [
          0,
          1
         ],
         "title": {
          "text": "Cumulative Heat (J/g)"
         }
        }
       }
      }
     },
     "metadata": {},
     "output_type": "display_data"
    }
   ],
   "source": [
    "import plotly.express as px\n",
    "\n",
    "# Filter to only the 8 relevant groups\n",
    "relevant_groups = [\n",
    "    'PC with GP', 'PLC with GP',\n",
    "    'Ternary with 30% PC', 'Ternary with 40% PC', 'Ternary with 50% PC',\n",
    "    'Ternary with 30% PLC', 'Ternary with 40% PLC', 'Ternary with 50% PLC'\n",
    "]\n",
    "\n",
    "# Filtered DataFrame for plotting\n",
    "box_df = df1[df1['Group_names'].isin(relevant_groups)]\n",
    "\n",
    "# Create interactive boxplot\n",
    "fig = px.box(\n",
    "    box_df,\n",
    "    x=\"Group_names\",\n",
    "    y=\"Cumulative Heat (J/g)\",\n",
    "    color=\"Group_names\",\n",
    "    title=\"📦 Interactive Boxplot: Cumulative Heat Distribution by Group\",\n",
    "    labels={\"Group_names\": \"Group\", \"Cumulative Heat (J/g)\": \"Cumulative Heat (J/g)\"},\n",
    "    points=\"all\"  # shows all data points as scatter\n",
    ")\n",
    "\n",
    "fig.update_layout(\n",
    "    showlegend=False,\n",
    "    xaxis_tickangle=-45,\n",
    "    width=1000,\n",
    "    height=600\n",
    ")\n",
    "fig.show()\n"
   ]
  },
  {
   "cell_type": "markdown",
   "metadata": {},
   "source": [
    "#### 📦 Insight:\n",
    "This box plot shows how cumulative heat values are distributed within each group. Groups like *Ternary with 50% PC* show a tight range (more consistent behavior), while others like *PLC with GP* display wider spread, suggesting variability in reactivity. Outliers may indicate inconsistent mix performance or experimental anomalies.\n"
   ]
  },
  {
   "cell_type": "markdown",
   "metadata": {},
   "source": [
    "## PREDICTIVE MODEL "
   ]
  },
  {
   "cell_type": "code",
   "execution_count": 19,
   "metadata": {},
   "outputs": [
    {
     "data": {
      "text/html": [
       "<div>\n",
       "<style scoped>\n",
       "    .dataframe tbody tr th:only-of-type {\n",
       "        vertical-align: middle;\n",
       "    }\n",
       "\n",
       "    .dataframe tbody tr th {\n",
       "        vertical-align: top;\n",
       "    }\n",
       "\n",
       "    .dataframe thead th {\n",
       "        text-align: right;\n",
       "    }\n",
       "</style>\n",
       "<table border=\"1\" class=\"dataframe\">\n",
       "  <thead>\n",
       "    <tr style=\"text-align: right;\">\n",
       "      <th></th>\n",
       "      <th>Model</th>\n",
       "      <th>R²</th>\n",
       "      <th>RMSE</th>\n",
       "      <th>MAE</th>\n",
       "    </tr>\n",
       "  </thead>\n",
       "  <tbody>\n",
       "    <tr>\n",
       "      <th>0</th>\n",
       "      <td>Linear Regression</td>\n",
       "      <td>0.909785</td>\n",
       "      <td>11.041933</td>\n",
       "      <td>9.041400</td>\n",
       "    </tr>\n",
       "    <tr>\n",
       "      <th>1</th>\n",
       "      <td>Polynomial Regression (Degree 2)</td>\n",
       "      <td>0.841749</td>\n",
       "      <td>14.624467</td>\n",
       "      <td>12.519684</td>\n",
       "    </tr>\n",
       "    <tr>\n",
       "      <th>2</th>\n",
       "      <td>Random Forest</td>\n",
       "      <td>0.872235</td>\n",
       "      <td>13.140516</td>\n",
       "      <td>9.853176</td>\n",
       "    </tr>\n",
       "  </tbody>\n",
       "</table>\n",
       "</div>"
      ],
      "text/plain": [
       "                              Model        R²       RMSE        MAE\n",
       "0                 Linear Regression  0.909785  11.041933   9.041400\n",
       "1  Polynomial Regression (Degree 2)  0.841749  14.624467  12.519684\n",
       "2                     Random Forest  0.872235  13.140516   9.853176"
      ]
     },
     "metadata": {},
     "output_type": "display_data"
    }
   ],
   "source": [
    "# STEP 1: Filter to relevant groups\n",
    "relevant_groups = [\n",
    "    'PC with GP', 'PLC with GP',\n",
    "    'Ternary with 30% PC', 'Ternary with 40% PC', 'Ternary with 50% PC',\n",
    "    'Ternary with 30% PLC', 'Ternary with 40% PLC', 'Ternary with 50% PLC'\n",
    "]\n",
    "\n",
    "composition_cols = ['PC', 'PLC', 'GPP', 'FA', 'SC', 'CC', 'VA', 'GBA', 'FBC']\n",
    "df_model = df1[df1['Group_names'].isin(relevant_groups)][composition_cols + ['Cumulative Heat (J/g)']].dropna()\n",
    "\n",
    "# STEP 2: Define input features (X) and target variable (y)\n",
    "X = df_model[composition_cols]\n",
    "y = df_model['Cumulative Heat (J/g)']\n",
    "\n",
    "# STEP 3: Train-test split\n",
    "from sklearn.model_selection import train_test_split\n",
    "X_train, X_test, y_train, y_test = train_test_split(X, y, test_size=0.2, random_state=42)\n",
    "\n",
    "# STEP 4: Train Multiple Models\n",
    "from sklearn.linear_model import LinearRegression\n",
    "from sklearn.pipeline import make_pipeline\n",
    "from sklearn.preprocessing import PolynomialFeatures\n",
    "from sklearn.ensemble import RandomForestRegressor\n",
    "from sklearn.metrics import mean_squared_error, mean_absolute_error, r2_score\n",
    "import pandas as pd\n",
    "import numpy as np\n",
    "\n",
    "models = {\n",
    "    'Linear Regression': LinearRegression(),\n",
    "    'Polynomial Regression (Degree 2)': make_pipeline(PolynomialFeatures(degree=2), LinearRegression()),\n",
    "    'Random Forest': RandomForestRegressor(n_estimators=100, random_state=42)\n",
    "}\n",
    "\n",
    "results = []\n",
    "\n",
    "for name, model in models.items():\n",
    "    model.fit(X_train, y_train)\n",
    "    preds = model.predict(X_test)\n",
    "    r2 = r2_score(y_test, preds)\n",
    "    rmse = np.sqrt(mean_squared_error(y_test, preds))\n",
    "    mae = mean_absolute_error(y_test, preds)\n",
    "    results.append({'Model': name, 'R²': r2, 'RMSE': rmse, 'MAE': mae})\n",
    "\n",
    "# STEP 5: Create DataFrame of Results\n",
    "results_df = pd.DataFrame(results)\n",
    "display(results_df)\n",
    "\n"
   ]
  },
  {
   "cell_type": "markdown",
   "metadata": {},
   "source": [
    "\n",
    "#### 🤖 Insight: Model Comparison for Predicting Cumulative Heat\n",
    "\n",
    "Among the three models tested, **Linear Regression** provided the best performance, achieving an R² of 0.91. This suggests that the relationship between binder/SCM composition and cumulative heat is largely linear.\n",
    "\n",
    "- Polynomial Regression did not improve the fit, indicating limited non-linear interactions or potential overfitting.\n",
    "- Random Forest was moderately effective but still lagged behind linear regression, implying that the data structure is well-captured by simpler models.\n",
    "\n",
    "Further analysis (e.g., feature importance) may help refine which SCMs contribute most to heat evolution.\n"
   ]
  },
  {
   "cell_type": "code",
   "execution_count": 20,
   "metadata": {},
   "outputs": [
    {
     "data": {
      "image/png": "[encoded data removed]",
      "text/plain": [
       "<Figure size 700x500 with 1 Axes>"
      ]
     },
     "metadata": {},
     "output_type": "display_data"
    }
   ],
   "source": [
    "import matplotlib.pyplot as plt\n",
    "\n",
    "# Use best model: Linear Regression\n",
    "best_model = LinearRegression()\n",
    "best_model.fit(X_train, y_train)\n",
    "y_pred = best_model.predict(X_test)\n",
    "\n",
    "plt.figure(figsize=(7, 5))\n",
    "plt.scatter(y_test, y_pred, c='blue', edgecolors='k')\n",
    "plt.plot([y.min(), y.max()], [y.min(), y.max()], 'r--')\n",
    "plt.xlabel(\"Actual Cumulative Heat\")\n",
    "plt.ylabel(\"Predicted Cumulative Heat\")\n",
    "plt.title(\"Actual vs Predicted (Linear Regression)\")\n",
    "plt.grid(True)\n",
    "plt.tight_layout()\n",
    "plt.show()\n"
   ]
  },
  {
   "cell_type": "code",
   "execution_count": 21,
   "metadata": {},
   "outputs": [
    {
     "name": "stderr",
     "output_type": "stream",
     "text": [
      "C:\\Users\\raksh\\AppData\\Local\\Temp\\ipykernel_40348\\4029540607.py:11: FutureWarning:\n",
      "\n",
      "\n",
      "\n",
      "Passing `palette` without assigning `hue` is deprecated and will be removed in v0.14.0. Assign the `y` variable to `hue` and set `legend=False` for the same effect.\n",
      "\n",
      "\n"
     ]
    },
    {
     "data": {
      "image/png": "[encoded data removed]",
      "text/plain": [
       "<Figure size 800x500 with 1 Axes>"
      ]
     },
     "metadata": {},
     "output_type": "display_data"
    }
   ],
   "source": [
    "rf_model = RandomForestRegressor(n_estimators=100, random_state=42)\n",
    "rf_model.fit(X_train, y_train)\n",
    "\n",
    "import pandas as pd\n",
    "import seaborn as sns\n",
    "\n",
    "importances = pd.Series(rf_model.feature_importances_, index=X.columns)\n",
    "importances = importances.sort_values(ascending=True)\n",
    "\n",
    "plt.figure(figsize=(8, 5))\n",
    "sns.barplot(x=importances, y=importances.index, palette='viridis')\n",
    "plt.title(\"Feature Importance (Random Forest)\")\n",
    "plt.xlabel(\"Importance\")\n",
    "plt.tight_layout()\n",
    "plt.show()\n"
   ]
  },
  {
   "cell_type": "markdown",
   "metadata": {},
   "source": []
  },
  {
   "cell_type": "code",
   "execution_count": 24,
   "metadata": {},
   "outputs": [
    {
     "name": "stderr",
     "output_type": "stream",
     "text": [
      "c:\\Users\\raksh\\AppData\\Local\\Programs\\Python\\Python312\\Lib\\site-packages\\sklearn\\linear_model\\_coordinate_descent.py:697: ConvergenceWarning:\n",
      "\n",
      "Objective did not converge. You might want to increase the number of iterations, check the scale of the features or consider increasing regularisation. Duality gap: 1.853e+02, tolerance: 7.833e+00\n",
      "\n"
     ]
    },
    {
     "data": {
      "text/html": [
       "<div>\n",
       "<style scoped>\n",
       "    .dataframe tbody tr th:only-of-type {\n",
       "        vertical-align: middle;\n",
       "    }\n",
       "\n",
       "    .dataframe tbody tr th {\n",
       "        vertical-align: top;\n",
       "    }\n",
       "\n",
       "    .dataframe thead th {\n",
       "        text-align: right;\n",
       "    }\n",
       "</style>\n",
       "<table border=\"1\" class=\"dataframe\">\n",
       "  <thead>\n",
       "    <tr style=\"text-align: right;\">\n",
       "      <th></th>\n",
       "      <th>Model</th>\n",
       "      <th>R²</th>\n",
       "      <th>RMSE</th>\n",
       "      <th>MAE</th>\n",
       "    </tr>\n",
       "  </thead>\n",
       "  <tbody>\n",
       "    <tr>\n",
       "      <th>4</th>\n",
       "      <td>Lasso Regression</td>\n",
       "      <td>0.909965</td>\n",
       "      <td>11.030918</td>\n",
       "      <td>9.037187</td>\n",
       "    </tr>\n",
       "    <tr>\n",
       "      <th>3</th>\n",
       "      <td>Ridge Regression</td>\n",
       "      <td>0.909807</td>\n",
       "      <td>11.040640</td>\n",
       "      <td>9.041446</td>\n",
       "    </tr>\n",
       "    <tr>\n",
       "      <th>0</th>\n",
       "      <td>Linear Regression</td>\n",
       "      <td>0.909785</td>\n",
       "      <td>11.041933</td>\n",
       "      <td>9.041400</td>\n",
       "    </tr>\n",
       "    <tr>\n",
       "      <th>2</th>\n",
       "      <td>Random Forest</td>\n",
       "      <td>0.872235</td>\n",
       "      <td>13.140516</td>\n",
       "      <td>9.853176</td>\n",
       "    </tr>\n",
       "    <tr>\n",
       "      <th>5</th>\n",
       "      <td>XGBoost Regressor</td>\n",
       "      <td>0.869772</td>\n",
       "      <td>13.266555</td>\n",
       "      <td>9.927687</td>\n",
       "    </tr>\n",
       "    <tr>\n",
       "      <th>1</th>\n",
       "      <td>Polynomial Regression (Degree 2)</td>\n",
       "      <td>0.841749</td>\n",
       "      <td>14.624467</td>\n",
       "      <td>12.519684</td>\n",
       "    </tr>\n",
       "    <tr>\n",
       "      <th>6</th>\n",
       "      <td>KNN Regressor</td>\n",
       "      <td>0.735884</td>\n",
       "      <td>18.893146</td>\n",
       "      <td>14.377250</td>\n",
       "    </tr>\n",
       "  </tbody>\n",
       "</table>\n",
       "</div>"
      ],
      "text/plain": [
       "                              Model        R²       RMSE        MAE\n",
       "4                  Lasso Regression  0.909965  11.030918   9.037187\n",
       "3                  Ridge Regression  0.909807  11.040640   9.041446\n",
       "0                 Linear Regression  0.909785  11.041933   9.041400\n",
       "2                     Random Forest  0.872235  13.140516   9.853176\n",
       "5                 XGBoost Regressor  0.869772  13.266555   9.927687\n",
       "1  Polynomial Regression (Degree 2)  0.841749  14.624467  12.519684\n",
       "6                     KNN Regressor  0.735884  18.893146  14.377250"
      ]
     },
     "metadata": {},
     "output_type": "display_data"
    }
   ],
   "source": [
    "from sklearn.linear_model import Ridge, Lasso\n",
    "from sklearn.neighbors import KNeighborsRegressor\n",
    "from xgboost import XGBRegressor\n",
    "\n",
    "# Add new models to your dictionary\n",
    "extra_models = {\n",
    "    'Ridge Regression': Ridge(alpha=1.0),\n",
    "    'Lasso Regression': Lasso(alpha=0.1),\n",
    "    'XGBoost Regressor': XGBRegressor(n_estimators=100, learning_rate=0.1, random_state=42),\n",
    "    'KNN Regressor': KNeighborsRegressor(n_neighbors=5)\n",
    "}\n",
    "\n",
    "# Merge with existing model dictionary if needed\n",
    "all_models = {**models, **extra_models}\n",
    "\n",
    "# Evaluate all models\n",
    "extended_results = []\n",
    "\n",
    "for name, model in all_models.items():\n",
    "    model.fit(X_train, y_train)\n",
    "    preds = model.predict(X_test)\n",
    "    r2 = r2_score(y_test, preds)\n",
    "    rmse = np.sqrt(mean_squared_error(y_test, preds))\n",
    "    mae = mean_absolute_error(y_test, preds)\n",
    "    extended_results.append({'Model': name, 'R²': r2, 'RMSE': rmse, 'MAE': mae})\n",
    "\n",
    "# Display all model performance results\n",
    "extended_results_df = pd.DataFrame(extended_results).sort_values('R²', ascending=False)\n",
    "display(extended_results_df)\n"
   ]
  },
  {
   "cell_type": "markdown",
   "metadata": {},
   "source": [
    "#### 🤖 Insight: Extended Model Comparison for Cumulative Heat Prediction\n",
    "\n",
    "With the inclusion of regularized and advanced ML models, **Lasso Regression emerged as the top performer**, achieving the highest R² (0.91) and lowest RMSE and MAE. Interestingly, **Linear and Ridge Regression** followed very closely, confirming the presence of a **strong linear trend** in how SCM proportions affect cumulative heat evolution.\n",
    "\n",
    "- Tree-based models like **Random Forest** and **XGBoost** performed reasonably well but didn’t outperform the linear models.\n",
    "- **Polynomial Regression** showed a drop in performance, possibly due to overfitting on small samples.\n",
    "- **KNN** was the weakest, likely due to its sensitivity to high dimensional data and lack of scaling.\n",
    "\n",
    "This analysis suggests that simpler models not only perform best but also offer easier interpretability — a plus for industrial deployment and client transparency.\n"
   ]
  },
  {
   "cell_type": "code",
   "execution_count": 25,
   "metadata": {},
   "outputs": [
    {
     "name": "stdout",
     "output_type": "stream",
     "text": [
      "Best alpha: 0.00010\n",
      "Final Lasso Model (alpha=0.00010)\n",
      "R²: 0.9098, RMSE: 11.04, MAE: 9.04\n"
     ]
    },
    {
     "name": "stderr",
     "output_type": "stream",
     "text": [
      "c:\\Users\\raksh\\AppData\\Local\\Programs\\Python\\Python312\\Lib\\site-packages\\sklearn\\linear_model\\_coordinate_descent.py:697: ConvergenceWarning:\n",
      "\n",
      "Objective did not converge. You might want to increase the number of iterations, check the scale of the features or consider increasing regularisation. Duality gap: 6.844e+02, tolerance: 7.833e+00\n",
      "\n",
      "c:\\Users\\raksh\\AppData\\Local\\Programs\\Python\\Python312\\Lib\\site-packages\\sklearn\\linear_model\\_coordinate_descent.py:697: ConvergenceWarning:\n",
      "\n",
      "Objective did not converge. You might want to increase the number of iterations, check the scale of the features or consider increasing regularisation. Duality gap: 6.844e+02, tolerance: 7.833e+00\n",
      "\n"
     ]
    },
    {
     "data": {
      "image/png": "[encoded data removed]",
      "text/plain": [
       "<Figure size 700x500 with 1 Axes>"
      ]
     },
     "metadata": {},
     "output_type": "display_data"
    }
   ],
   "source": [
    "from sklearn.linear_model import LassoCV\n",
    "from sklearn.model_selection import cross_val_score\n",
    "import matplotlib.pyplot as plt\n",
    "import numpy as np\n",
    "\n",
    "# Try multiple alpha values on a logarithmic scale\n",
    "alphas = np.logspace(-4, 1, 50)\n",
    "\n",
    "# Step 1: LassoCV with 5-fold cross-validation\n",
    "lasso_cv = LassoCV(alphas=alphas, cv=5, random_state=42)\n",
    "lasso_cv.fit(X_train, y_train)\n",
    "\n",
    "# Step 2: Best alpha & model refit\n",
    "best_alpha = lasso_cv.alpha_\n",
    "print(f\"Best alpha: {best_alpha:.5f}\")\n",
    "\n",
    "# Step 3: Final model evaluation\n",
    "final_model = Lasso(alpha=best_alpha)\n",
    "final_model.fit(X_train, y_train)\n",
    "y_pred = final_model.predict(X_test)\n",
    "\n",
    "from sklearn.metrics import r2_score, mean_squared_error, mean_absolute_error\n",
    "r2 = r2_score(y_test, y_pred)\n",
    "rmse = np.sqrt(mean_squared_error(y_test, y_pred))\n",
    "mae = mean_absolute_error(y_test, y_pred)\n",
    "\n",
    "print(f\"Final Lasso Model (alpha={best_alpha:.5f})\")\n",
    "print(f\"R²: {r2:.4f}, RMSE: {rmse:.2f}, MAE: {mae:.2f}\")\n",
    "\n",
    "# Optional: Plot predictions vs actual\n",
    "plt.figure(figsize=(7, 5))\n",
    "plt.scatter(y_test, y_pred, edgecolor='k', color='blue')\n",
    "plt.plot([y.min(), y.max()], [y.min(), y.max()], 'r--')\n",
    "plt.xlabel(\"Actual Cumulative Heat\")\n",
    "plt.ylabel(\"Predicted Cumulative Heat\")\n",
    "plt.title(\"Final Lasso Model: Actual vs Predicted\")\n",
    "plt.grid(True)\n",
    "plt.tight_layout()\n",
    "plt.show()\n"
   ]
  },
  {
   "cell_type": "code",
   "execution_count": 27,
   "metadata": {},
   "outputs": [
    {
     "name": "stderr",
     "output_type": "stream",
     "text": [
      "C:\\Users\\raksh\\AppData\\Local\\Temp\\ipykernel_40348\\3383137596.py:13: FutureWarning:\n",
      "\n",
      "\n",
      "\n",
      "Passing `palette` without assigning `hue` is deprecated and will be removed in v0.14.0. Assign the `y` variable to `hue` and set `legend=False` for the same effect.\n",
      "\n",
      "\n"
     ]
    },
    {
     "data": {
      "image/png": "[encoded data removed]",
      "text/plain": [
       "<Figure size 800x500 with 1 Axes>"
      ]
     },
     "metadata": {},
     "output_type": "display_data"
    }
   ],
   "source": [
    "import pandas as pd\n",
    "import seaborn as sns\n",
    "import matplotlib.pyplot as plt\n",
    "\n",
    "# Extract feature names and coefficients from final tuned Lasso model\n",
    "lasso_coef = pd.Series(final_model.coef_, index=X.columns)\n",
    "\n",
    "# Filter out zero-coefficient features (Lasso does this!)\n",
    "nonzero_coefs = lasso_coef[lasso_coef != 0].sort_values(ascending=True)\n",
    "\n",
    "# Plot feature importances\n",
    "plt.figure(figsize=(8, 5))\n",
    "sns.barplot(x=nonzero_coefs, y=nonzero_coefs.index, palette='coolwarm')\n",
    "plt.title(\"Lasso Feature Importances\")\n",
    "plt.xlabel(\"Coefficient Value\")\n",
    "plt.ylabel(\"Feature\")\n",
    "plt.grid(True, axis='x')\n",
    "plt.tight_layout()\n",
    "plt.show()\n"
   ]
  },
  {
   "cell_type": "markdown",
   "metadata": {},
   "source": [
    "#### 🧠 Insight: Lasso Model Feature Importances\n",
    "\n",
    "This plot shows the non-zero coefficients selected by the Lasso Regression model. Higher absolute values indicate a stronger influence on cumulative heat evolution.\n",
    "\n",
    "- **Positive coefficients** (e.g., PC, GPP) indicate features that increase heat.\n",
    "- **Negative coefficients** (if any) suggest features that slightly reduce heat when increased.\n",
    "- Zeroed-out features were dropped by Lasso as **not significantly contributing**.\n",
    "\n",
    "This provides a clear, interpretable map of which SCMs are thermally active — and supports better material selection in mix design.\n"
   ]
  },
  {
   "cell_type": "code",
   "execution_count": 42,
   "metadata": {},
   "outputs": [],
   "source": [
    "def predict_heat_from_user():\n",
    "    print(\"📋 Welcome to the Cumulative Heat Predictor!\")\n",
    "    print(\"Enter the % composition for each material. It will stop once the total hits 100%. Leave blank to skip.\\n\")\n",
    "\n",
    "    materials = ['PC', 'PLC', 'GPP', 'FA', 'SC', 'CC', 'VA', 'GBA', 'FBC']\n",
    "    labels = {\n",
    "        'PC': \" Percent PC: \",\n",
    "        'PLC': \" Percent PLC: \",\n",
    "        'GPP': \" Percent GPP (Glass Pozzolan): \",\n",
    "        'FA': \" Percent FA (Fly Ash): \",\n",
    "        'SC': \" Percent SC (Slag Cement): \",\n",
    "        'CC': \" Percent CC (Calcined Clay): \",\n",
    "        'VA': \" Percent VA (Volcanic Ash): \",\n",
    "        'GBA': \" Percent GBA (Ground Brick Aggregate): \",\n",
    "        'FBC': \" Percent FBC Ash: \"\n",
    "    }\n",
    "\n",
    "    blend = {}\n",
    "    total = 0.0\n",
    "\n",
    "    for mat in materials:\n",
    "        remaining = 100 - total\n",
    "        if remaining <= 0:\n",
    "            print(\" Total reached 100%. Stopping further input.\\n\")\n",
    "            break\n",
    "\n",
    "        prompt = labels[mat] + f\"(Remaining: {remaining:.2f}%) \"\n",
    "        user_input = input(prompt).strip()\n",
    "\n",
    "        if user_input == \"\":\n",
    "            blend[mat] = 0\n",
    "            continue\n",
    "\n",
    "        try:\n",
    "            val = float(user_input)\n",
    "            if val < 0 or val > remaining:\n",
    "                print(f\" Value must be between 0 and {remaining:.2f}. Setting {mat} to 0.\")\n",
    "                val = 0\n",
    "        except ValueError:\n",
    "            print(f\" Invalid input for {mat}. Setting to 0.\")\n",
    "            val = 0\n",
    "\n",
    "        blend[mat] = val\n",
    "        total += val\n",
    "\n",
    "    print(f\"\\n Final Blend Total: {total:.2f}%\")\n",
    "\n",
    "    if not 98 <= total <= 102:\n",
    "        print(\" Warning: Blend doesn't sum to ~100%. Please check the inputs.\\n\")\n",
    "        return\n",
    "\n",
    "    # Ensure all required columns are present and in order\n",
    "    required_columns = ['PC', 'PLC', 'GPP', 'FA', 'SC', 'CC', 'VA', 'GBA', 'FBC']\n",
    "    for col in required_columns:\n",
    "        if col not in blend:\n",
    "            blend[col] = 0\n",
    "\n",
    "    input_df = pd.DataFrame([[blend[col] for col in required_columns]], columns=required_columns)\n",
    "\n",
    "    # Show user inputs\n",
    "    print(\"\\n Blend Composition Summary:\")\n",
    "    for comp, val in blend.items():\n",
    "        if val > 0:\n",
    "            print(f\"  - {comp}: {val:.2f}%\")\n",
    "\n",
    "    # Predict cumulative heat\n",
    "    prediction = final_model.predict(input_df)[0]\n",
    "    print(f\"\\n Estimated Cumulative Heat: **{round(prediction, 2)} J/g** \\n\")\n"
   ]
  },
  {
   "cell_type": "code",
   "execution_count": 43,
   "metadata": {},
   "outputs": [
    {
     "name": "stdout",
     "output_type": "stream",
     "text": [
      "📋 Welcome to the Cumulative Heat Predictor!\n",
      "Enter the % composition for each material. It will stop once the total hits 100%. Leave blank to skip.\n",
      "\n",
      " Total reached 100%. Stopping further input.\n",
      "\n",
      "\n",
      " Final Blend Total: 100.00%\n",
      "\n",
      " Blend Composition Summary:\n",
      "  - PC: 60.00%\n",
      "  - GPP: 20.00%\n",
      "  - FA: 10.00%\n",
      "  - SC: 6.00%\n",
      "  - CC: 2.00%\n",
      "  - VA: 2.00%\n",
      "\n",
      " Estimated Cumulative Heat: **268.7 J/g** \n",
      "\n"
     ]
    }
   ],
   "source": [
    "predict_heat_from_user()\n"
   ]
  },
  {
   "cell_type": "code",
   "execution_count": 45,
   "metadata": {},
   "outputs": [
    {
     "data": {
      "image/png": "[encoded data removed]",
      "text/plain": [
       "<Figure size 1000x800 with 2 Axes>"
      ]
     },
     "metadata": {},
     "output_type": "display_data"
    }
   ],
   "source": [
    "import seaborn as sns\n",
    "import matplotlib.pyplot as plt\n",
    "\n",
    "# Combine features and target into one DataFrame\n",
    "correlation_data = df1[[\n",
    "    'PC', 'PLC', 'GPP', 'FA', 'SC', 'CC', 'VA', 'GBA', 'FBC', 'Cumulative Heat (J/g)'\n",
    "]].dropna()\n",
    "\n",
    "# Compute correlation matrix\n",
    "corr_matrix = correlation_data.corr()\n",
    "\n",
    "# Create heatmap\n",
    "plt.figure(figsize=(10, 8))\n",
    "sns.heatmap(\n",
    "    corr_matrix,\n",
    "    annot=True,\n",
    "    fmt=\".2f\",\n",
    "    cmap=\"coolwarm\",\n",
    "    square=True,\n",
    "    linewidths=0.5,\n",
    "    cbar_kws={'label': 'Correlation Coefficient'}\n",
    ")\n",
    "plt.title(\" Correlation Heatmap: SCM Contents vs. Cumulative Heat\", fontsize=14)\n",
    "plt.xticks(rotation=45)\n",
    "plt.yticks(rotation=0)\n",
    "plt.tight_layout()\n",
    "plt.show()\n"
   ]
  },
  {
   "cell_type": "markdown",
   "metadata": {},
   "source": [
    "#### 📊 Insight: Correlation of SCMs with Cumulative Heat\n",
    "\n",
    "This heatmap shows how strongly each SCM (and binder) percentage correlates with the **cumulative heat evolution**:\n",
    "\n",
    "- **Positive correlations** (e.g., PC, GPP) suggest these materials tend to **increase heat** when their proportion increases.\n",
    "- **Negative correlations** may indicate SCMs that **reduce heat** or act as diluents.\n",
    "- Features with **strong inter-correlation** (e.g., PC vs PLC or FA vs CC) may need attention due to potential multicollinearity.\n",
    "\n",
    "This chart helps validate model findings and informs future optimization strategies by highlighting which components are most thermally active.\n"
   ]
  },
  {
   "cell_type": "markdown",
   "metadata": {},
   "source": []
  },
  {
   "cell_type": "code",
   "execution_count": 46,
   "metadata": {},
   "outputs": [
    {
     "ename": "ValueError",
     "evalue": "could not convert string to float: '100% PC'",
     "output_type": "error",
     "traceback": [
      "\u001b[1;31m---------------------------------------------------------------------------\u001b[0m",
      "\u001b[1;31mValueError\u001b[0m                                Traceback (most recent call last)",
      "Cell \u001b[1;32mIn[46], line 5\u001b[0m\n\u001b[0;32m      2\u001b[0m \u001b[38;5;28;01mimport\u001b[39;00m \u001b[38;5;21;01mplotly\u001b[39;00m\u001b[38;5;21;01m.\u001b[39;00m\u001b[38;5;21;01mfigure_factory\u001b[39;00m \u001b[38;5;28;01mas\u001b[39;00m \u001b[38;5;21;01mff\u001b[39;00m\n\u001b[0;32m      4\u001b[0m \u001b[38;5;66;03m# Calculate correlation\u001b[39;00m\n\u001b[1;32m----> 5\u001b[0m corr_matrix \u001b[38;5;241m=\u001b[39m \u001b[43mdf1\u001b[49m\u001b[38;5;241;43m.\u001b[39;49m\u001b[43mcorr\u001b[49m\u001b[43m(\u001b[49m\u001b[43m)\u001b[49m\u001b[38;5;241m.\u001b[39mround(\u001b[38;5;241m2\u001b[39m)\n\u001b[0;32m      6\u001b[0m fig \u001b[38;5;241m=\u001b[39m ff\u001b[38;5;241m.\u001b[39mcreate_annotated_heatmap(\n\u001b[0;32m      7\u001b[0m     z\u001b[38;5;241m=\u001b[39mcorr_matrix\u001b[38;5;241m.\u001b[39mvalues,\n\u001b[0;32m      8\u001b[0m     x\u001b[38;5;241m=\u001b[39mcorr_matrix\u001b[38;5;241m.\u001b[39mcolumns\u001b[38;5;241m.\u001b[39mtolist(),\n\u001b[1;32m   (...)\u001b[0m\n\u001b[0;32m     12\u001b[0m     zmin\u001b[38;5;241m=\u001b[39m\u001b[38;5;241m-\u001b[39m\u001b[38;5;241m1\u001b[39m, zmax\u001b[38;5;241m=\u001b[39m\u001b[38;5;241m1\u001b[39m\n\u001b[0;32m     13\u001b[0m )\n\u001b[0;32m     14\u001b[0m fig\u001b[38;5;241m.\u001b[39mupdate_layout(title_text\u001b[38;5;241m=\u001b[39m\u001b[38;5;124m\"\u001b[39m\u001b[38;5;124m📈 Correlation Matrix (Interactive)\u001b[39m\u001b[38;5;124m\"\u001b[39m, width\u001b[38;5;241m=\u001b[39m\u001b[38;5;241m700\u001b[39m, height\u001b[38;5;241m=\u001b[39m\u001b[38;5;241m700\u001b[39m)\n",
      "File \u001b[1;32mc:\\Users\\raksh\\AppData\\Local\\Programs\\Python\\Python312\\Lib\\site-packages\\pandas\\core\\frame.py:11049\u001b[0m, in \u001b[0;36mDataFrame.corr\u001b[1;34m(self, method, min_periods, numeric_only)\u001b[0m\n\u001b[0;32m  11047\u001b[0m cols \u001b[38;5;241m=\u001b[39m data\u001b[38;5;241m.\u001b[39mcolumns\n\u001b[0;32m  11048\u001b[0m idx \u001b[38;5;241m=\u001b[39m cols\u001b[38;5;241m.\u001b[39mcopy()\n\u001b[1;32m> 11049\u001b[0m mat \u001b[38;5;241m=\u001b[39m \u001b[43mdata\u001b[49m\u001b[38;5;241;43m.\u001b[39;49m\u001b[43mto_numpy\u001b[49m\u001b[43m(\u001b[49m\u001b[43mdtype\u001b[49m\u001b[38;5;241;43m=\u001b[39;49m\u001b[38;5;28;43mfloat\u001b[39;49m\u001b[43m,\u001b[49m\u001b[43m \u001b[49m\u001b[43mna_value\u001b[49m\u001b[38;5;241;43m=\u001b[39;49m\u001b[43mnp\u001b[49m\u001b[38;5;241;43m.\u001b[39;49m\u001b[43mnan\u001b[49m\u001b[43m,\u001b[49m\u001b[43m \u001b[49m\u001b[43mcopy\u001b[49m\u001b[38;5;241;43m=\u001b[39;49m\u001b[38;5;28;43;01mFalse\u001b[39;49;00m\u001b[43m)\u001b[49m\n\u001b[0;32m  11051\u001b[0m \u001b[38;5;28;01mif\u001b[39;00m method \u001b[38;5;241m==\u001b[39m \u001b[38;5;124m\"\u001b[39m\u001b[38;5;124mpearson\u001b[39m\u001b[38;5;124m\"\u001b[39m:\n\u001b[0;32m  11052\u001b[0m     correl \u001b[38;5;241m=\u001b[39m libalgos\u001b[38;5;241m.\u001b[39mnancorr(mat, minp\u001b[38;5;241m=\u001b[39mmin_periods)\n",
      "File \u001b[1;32mc:\\Users\\raksh\\AppData\\Local\\Programs\\Python\\Python312\\Lib\\site-packages\\pandas\\core\\frame.py:1993\u001b[0m, in \u001b[0;36mDataFrame.to_numpy\u001b[1;34m(self, dtype, copy, na_value)\u001b[0m\n\u001b[0;32m   1991\u001b[0m \u001b[38;5;28;01mif\u001b[39;00m dtype \u001b[38;5;129;01mis\u001b[39;00m \u001b[38;5;129;01mnot\u001b[39;00m \u001b[38;5;28;01mNone\u001b[39;00m:\n\u001b[0;32m   1992\u001b[0m     dtype \u001b[38;5;241m=\u001b[39m np\u001b[38;5;241m.\u001b[39mdtype(dtype)\n\u001b[1;32m-> 1993\u001b[0m result \u001b[38;5;241m=\u001b[39m \u001b[38;5;28;43mself\u001b[39;49m\u001b[38;5;241;43m.\u001b[39;49m\u001b[43m_mgr\u001b[49m\u001b[38;5;241;43m.\u001b[39;49m\u001b[43mas_array\u001b[49m\u001b[43m(\u001b[49m\u001b[43mdtype\u001b[49m\u001b[38;5;241;43m=\u001b[39;49m\u001b[43mdtype\u001b[49m\u001b[43m,\u001b[49m\u001b[43m \u001b[49m\u001b[43mcopy\u001b[49m\u001b[38;5;241;43m=\u001b[39;49m\u001b[43mcopy\u001b[49m\u001b[43m,\u001b[49m\u001b[43m \u001b[49m\u001b[43mna_value\u001b[49m\u001b[38;5;241;43m=\u001b[39;49m\u001b[43mna_value\u001b[49m\u001b[43m)\u001b[49m\n\u001b[0;32m   1994\u001b[0m \u001b[38;5;28;01mif\u001b[39;00m result\u001b[38;5;241m.\u001b[39mdtype \u001b[38;5;129;01mis\u001b[39;00m \u001b[38;5;129;01mnot\u001b[39;00m dtype:\n\u001b[0;32m   1995\u001b[0m     result \u001b[38;5;241m=\u001b[39m np\u001b[38;5;241m.\u001b[39masarray(result, dtype\u001b[38;5;241m=\u001b[39mdtype)\n",
      "File \u001b[1;32mc:\\Users\\raksh\\AppData\\Local\\Programs\\Python\\Python312\\Lib\\site-packages\\pandas\\core\\internals\\managers.py:1694\u001b[0m, in \u001b[0;36mBlockManager.as_array\u001b[1;34m(self, dtype, copy, na_value)\u001b[0m\n\u001b[0;32m   1692\u001b[0m         arr\u001b[38;5;241m.\u001b[39mflags\u001b[38;5;241m.\u001b[39mwriteable \u001b[38;5;241m=\u001b[39m \u001b[38;5;28;01mFalse\u001b[39;00m\n\u001b[0;32m   1693\u001b[0m \u001b[38;5;28;01melse\u001b[39;00m:\n\u001b[1;32m-> 1694\u001b[0m     arr \u001b[38;5;241m=\u001b[39m \u001b[38;5;28;43mself\u001b[39;49m\u001b[38;5;241;43m.\u001b[39;49m\u001b[43m_interleave\u001b[49m\u001b[43m(\u001b[49m\u001b[43mdtype\u001b[49m\u001b[38;5;241;43m=\u001b[39;49m\u001b[43mdtype\u001b[49m\u001b[43m,\u001b[49m\u001b[43m \u001b[49m\u001b[43mna_value\u001b[49m\u001b[38;5;241;43m=\u001b[39;49m\u001b[43mna_value\u001b[49m\u001b[43m)\u001b[49m\n\u001b[0;32m   1695\u001b[0m     \u001b[38;5;66;03m# The underlying data was copied within _interleave, so no need\u001b[39;00m\n\u001b[0;32m   1696\u001b[0m     \u001b[38;5;66;03m# to further copy if copy=True or setting na_value\u001b[39;00m\n\u001b[0;32m   1698\u001b[0m \u001b[38;5;28;01mif\u001b[39;00m na_value \u001b[38;5;129;01mis\u001b[39;00m lib\u001b[38;5;241m.\u001b[39mno_default:\n",
      "File \u001b[1;32mc:\\Users\\raksh\\AppData\\Local\\Programs\\Python\\Python312\\Lib\\site-packages\\pandas\\core\\internals\\managers.py:1753\u001b[0m, in \u001b[0;36mBlockManager._interleave\u001b[1;34m(self, dtype, na_value)\u001b[0m\n\u001b[0;32m   1751\u001b[0m     \u001b[38;5;28;01melse\u001b[39;00m:\n\u001b[0;32m   1752\u001b[0m         arr \u001b[38;5;241m=\u001b[39m blk\u001b[38;5;241m.\u001b[39mget_values(dtype)\n\u001b[1;32m-> 1753\u001b[0m     \u001b[43mresult\u001b[49m\u001b[43m[\u001b[49m\u001b[43mrl\u001b[49m\u001b[38;5;241;43m.\u001b[39;49m\u001b[43mindexer\u001b[49m\u001b[43m]\u001b[49m \u001b[38;5;241m=\u001b[39m arr\n\u001b[0;32m   1754\u001b[0m     itemmask[rl\u001b[38;5;241m.\u001b[39mindexer] \u001b[38;5;241m=\u001b[39m \u001b[38;5;241m1\u001b[39m\n\u001b[0;32m   1756\u001b[0m \u001b[38;5;28;01mif\u001b[39;00m \u001b[38;5;129;01mnot\u001b[39;00m itemmask\u001b[38;5;241m.\u001b[39mall():\n",
      "\u001b[1;31mValueError\u001b[0m: could not convert string to float: '100% PC'"
     ]
    }
   ],
   "source": [
    "import plotly.express as px\n",
    "import plotly.figure_factory as ff\n",
    "\n",
    "# Calculate correlation\n",
    "corr_matrix = df1.corr().round(2)\n",
    "fig = ff.create_annotated_heatmap(\n",
    "    z=corr_matrix.values,\n",
    "    x=corr_matrix.columns.tolist(),\n",
    "    y=corr_matrix.index.tolist(),\n",
    "    colorscale='RdBu',\n",
    "    showscale=True,\n",
    "    zmin=-1, zmax=1\n",
    ")\n",
    "fig.update_layout(title_text=\"📈 Correlation Matrix (Interactive)\", width=700, height=700)\n",
    "fig.show()\n"
   ]
  },
  {
   "cell_type": "code",
   "execution_count": 47,
   "metadata": {},
   "outputs": [
    {
     "data": {
      "text/plain": [
       "<Axes: >"
      ]
     },
     "execution_count": 47,
     "metadata": {},
     "output_type": "execute_result"
    },
    {
     "data": {
      "image/png": "[encoded data removed]",
      "text/plain": [
       "<Figure size 640x480 with 2 Axes>"
      ]
     },
     "metadata": {},
     "output_type": "display_data"
    }
   ],
   "source": [
    "# Optional: Lower triangle heatmap\n",
    "mask = np.triu(np.ones_like(corr_matrix, dtype=bool))\n",
    "sns.heatmap(corr_matrix, mask=mask, annot=True, cmap=\"coolwarm\")\n"
   ]
  },
  {
   "cell_type": "code",
   "execution_count": null,
   "metadata": {},
   "outputs": [],
   "source": []
  }
 ],
 "metadata": {
  "kernelspec": {
   "display_name": "Python 3",
   "language": "python",
   "name": "python3"
  },
  "language_info": {
   "codemirror_mode": {
    "name": "ipython",
    "version": 3
   },
   "file_extension": ".py",
   "mimetype": "text/x-python",
   "name": "python",
   "nbconvert_exporter": "python",
   "pygments_lexer": "ipython3",
   "version": "3.12.1"
  }
 },
 "nbformat": 4,
 "nbformat_minor": 2
}
