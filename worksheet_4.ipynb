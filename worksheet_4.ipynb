{
 "cells": [
  {
   "cell_type": "code",
   "execution_count": 1,
   "id": "efc6a7e6",
   "metadata": {},
   "outputs": [],
   "source": [
    "import pandas as pd"
   ]
  },
  {
   "cell_type": "code",
   "execution_count": 2,
   "id": "708c2345",
   "metadata": {},
   "outputs": [],
   "source": [
    "df = pd.read_csv(\"new_iso1_group_names.csv\")  "
   ]
  },
  {
   "cell_type": "code",
   "execution_count": 3,
   "id": "0cb30818",
   "metadata": {},
   "outputs": [],
   "source": [
    "df_regroup = df.copy()"
   ]
  },
  {
   "cell_type": "code",
   "execution_count": null,
   "id": "26afe046",
   "metadata": {},
   "outputs": [],
   "source": [
    "# Step to Identify reference Quartz-based blends (PC/PLC + Quartz only)\n",
    "reference_blends = df_regroup[\n",
    "    (df_regroup['Blend Type'] == 'Binary') &\n",
    "    (df_regroup['QUARTZ'] > 0)\n",
    "]\n"
   ]
  },
  {
   "cell_type": "code",
   "execution_count": 5,
   "id": "3b79e2ac",
   "metadata": {},
   "outputs": [],
   "source": [
    "# Step to Create a reference heat lookup dictionary\n",
    "reference_lookup = {}\n",
    "for _, row in reference_blends.iterrows():\n",
    "    binder_type = 'PC' if row['PC'] > 0 else 'PLC'\n",
    "    binder_pct = int(row[binder_type])\n",
    "    reference_lookup[(binder_type, binder_pct)] = row['Cumulative Heat (J/g)']"
   ]
  },
  {
   "cell_type": "code",
   "execution_count": 6,
   "id": "fb87c1e1",
   "metadata": {},
   "outputs": [],
   "source": [
    "def assign_reference(row):\n",
    "    if row['Blend Type'] != 'Ternary':\n",
    "        return None\n",
    "    binder_type = 'PC' if row['PC'] > 0 else 'PLC'\n",
    "    binder_pct = int(row[binder_type])\n",
    "    return reference_lookup.get((binder_type, binder_pct), None)"
   ]
  },
  {
   "cell_type": "code",
   "execution_count": 7,
   "id": "8c2b5aae",
   "metadata": {},
   "outputs": [],
   "source": [
    "df_regroup['Reference_Heat'] = df_regroup.apply(assign_reference, axis=1)"
   ]
  },
  {
   "cell_type": "code",
   "execution_count": 8,
   "id": "310ef7a5",
   "metadata": {},
   "outputs": [],
   "source": [
    "df_regroup['Delta_Heat'] = df_regroup['Cumulative Heat (J/g)'] - df_regroup['Reference_Heat']"
   ]
  },
  {
   "cell_type": "code",
   "execution_count": 9,
   "id": "6dee4e61",
   "metadata": {},
   "outputs": [],
   "source": [
    "# Step 7: Generate SCM ratio group labels (e.g., PC-30 | GPP=3:SC=4)\n",
    "def scm_ratio_label(row):\n",
    "    if row['Blend Type'] != 'Ternary':\n",
    "        return None\n",
    "    binder_type = 'PC' if row['PC'] > 0 else 'PLC'\n",
    "    binder_pct = int(row[binder_type])\n",
    "\n",
    "    scms = ['GPP', 'SC', 'CC', 'FA', 'VA', 'GBA', 'FBC']\n",
    "    used_scms = {k: row[k] for k in scms if row[k] > 0}\n",
    "    total = sum(used_scms.values())\n",
    "    if total == 0:\n",
    "        return f\"{binder_type}-{binder_pct} | No SCMs\"\n",
    "\n",
    "    norm_ratios = {k: int(round(v / total * 10)) for k, v in used_scms.items()}\n",
    "    ratio_str = \":\".join([f\"{k}={v}\" for k, v in norm_ratios.items()])\n",
    "    return f\"{binder_type}-{binder_pct} | {ratio_str}\""
   ]
  },
  {
   "cell_type": "code",
   "execution_count": 10,
   "id": "61bae387",
   "metadata": {},
   "outputs": [],
   "source": [
    "df_regroup['Group_Label'] = df_regroup.apply(scm_ratio_label, axis=1)"
   ]
  },
  {
   "cell_type": "code",
   "execution_count": 15,
   "id": "041c62f0",
   "metadata": {},
   "outputs": [],
   "source": [
    "ternary_summary = df_regroup[df_regroup['Blend Type'] == 'Ternary'][[\n",
    "    'Original Blend Name', 'Group_Label', 'Cumulative Heat (J/g)', 'Delta_Heat'\n",
    "]].sort_values(by='Group_Label')"
   ]
  },
  {
   "cell_type": "code",
   "execution_count": 16,
   "id": "b082f4cb",
   "metadata": {},
   "outputs": [
    {
     "name": "stdout",
     "output_type": "stream",
     "text": [
      "           Original Blend Name          Group_Label  Cumulative Heat (J/g)  \\\n",
      "8    10% PC + 40% GPP + 50% SC   PC-10 | GPP=4:SC=6                 115.70   \n",
      "9    20% PC + 40% GPP + 40% SC   PC-20 | GPP=5:SC=5                 149.98   \n",
      "40  30% PC + 10% GPP + 60% FBC  PC-30 | GPP=1:FBC=9                 173.40   \n",
      "34  30% PC + 10% GPP + 60% GBA  PC-30 | GPP=1:GBA=9                 164.78   \n",
      "17   30% PC + 10% GPP + 60% SC   PC-30 | GPP=1:SC=9                 222.55   \n",
      "28   30% PC + 10% GPP + 60% VA   PC-30 | GPP=1:VA=9                 154.31   \n",
      "41  30% PC + 20% GPP + 50% FBC  PC-30 | GPP=3:FBC=7                 170.58   \n",
      "35  30% PC + 20% GPP + 50% GBA  PC-30 | GPP=3:GBA=7                 162.18   \n",
      "16   30% PC + 20% GPP + 50% SC   PC-30 | GPP=3:SC=7                 194.64   \n",
      "29   30% PC + 20% GPP + 50% VA   PC-30 | GPP=3:VA=7                 154.12   \n",
      "\n",
      "    Delta_Heat  \n",
      "8          NaN  \n",
      "9          NaN  \n",
      "40       28.01  \n",
      "34       19.39  \n",
      "17       77.16  \n",
      "28        8.92  \n",
      "41       25.19  \n",
      "35       16.79  \n",
      "16       49.25  \n",
      "29        8.73  \n"
     ]
    }
   ],
   "source": [
    "print(ternary_summary.head(10)) "
   ]
  }
 ],
 "metadata": {
  "kernelspec": {
   "display_name": "Python 3",
   "language": "python",
   "name": "python3"
  },
  "language_info": {
   "codemirror_mode": {
    "name": "ipython",
    "version": 3
   },
   "file_extension": ".py",
   "mimetype": "text/x-python",
   "name": "python",
   "nbconvert_exporter": "python",
   "pygments_lexer": "ipython3",
   "version": "3.12.1"
  }
 },
 "nbformat": 4,
 "nbformat_minor": 5
}
